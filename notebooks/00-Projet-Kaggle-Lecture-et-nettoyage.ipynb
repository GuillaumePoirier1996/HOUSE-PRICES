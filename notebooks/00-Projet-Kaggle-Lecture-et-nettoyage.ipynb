{
 "cells": [
  {
   "cell_type": "markdown",
   "metadata": {},
   "source": [
    "# 🏠🏠🏠 Projet Kaggle : Estimation DVF 🏠🏠🏠\n",
    "\n",
    "## Initialisation\n",
    "\n",
    "### Importation des bibliothèques nécessaires\n"
   ]
  },
  {
   "cell_type": "code",
   "execution_count": 1,
   "metadata": {},
   "outputs": [
    {
     "name": "stdout",
     "output_type": "stream",
     "text": [
      "(CVXPY) Dec 20 11:03:53 AM: Encountered unexpected exception importing solver GLOP:\n",
      "RuntimeError('Unrecognized new version of ortools (9.11.4210). Expected < 9.10.0. Please open a feature request on cvxpy to enable support for this version.')\n",
      "(CVXPY) Dec 20 11:03:53 AM: Encountered unexpected exception importing solver PDLP:\n",
      "RuntimeError('Unrecognized new version of ortools (9.11.4210). Expected < 9.10.0. Please open a feature request on cvxpy to enable support for this version.')\n"
     ]
    },
    {
     "name": "stderr",
     "output_type": "stream",
     "text": [
      "INFO:visions.backends:Pandas backend loaded 2.2.2\n",
      "INFO:visions.backends:Numpy backend loaded 1.26.4\n",
      "INFO:visions.backends:Pyspark backend NOT loaded\n",
      "INFO:visions.backends:Python backend loaded\n"
     ]
    }
   ],
   "source": [
    "from eurybia import SmartDrift\n",
    "import numpy as np\n",
    "from optbinning import ContinuousOptimalBinning\n",
    "import os\n",
    "import pandas as pd\n",
    "from ydata_profiling import ProfileReport"
   ]
  },
  {
   "cell_type": "markdown",
   "metadata": {},
   "source": [
    "### Lecture des jeux de données d'entrainement et de test\n"
   ]
  },
  {
   "cell_type": "code",
   "execution_count": 2,
   "metadata": {},
   "outputs": [],
   "source": [
    "train = pd.read_csv(\"../data/raw/train.csv\", delimiter=\",\")\n",
    "test = pd.read_csv(\"../data/raw/test.csv\", delimiter=\",\")"
   ]
  },
  {
   "cell_type": "markdown",
   "metadata": {},
   "source": [
    "### Lecture du fichier de description\n",
    "\n",
    "#### Création d'une fonction pour transformer les modalités\n"
   ]
  },
  {
   "cell_type": "code",
   "execution_count": 3,
   "metadata": {},
   "outputs": [],
   "source": [
    "def read_desc_file(filepath: str) -> dict:\n",
    "    def process_variable_line(line: str) -> tuple[str, str]:\n",
    "        \"\"\"Traite une ligne contenant une variable et sa description.\"\"\"\n",
    "        variable, description = line.split(\":\", 1)\n",
    "        return variable.strip(), description.strip()\n",
    "\n",
    "    def process_modalite_line(line: str) -> tuple[str, str]:\n",
    "        \"\"\"Traite une ligne contenant une modalité et sa description.\"\"\"\n",
    "        parts = line.split(None, 1)  # Séparer à la première espace\n",
    "        modalite = parts[0].strip()  # Premier mot\n",
    "        desc = parts[1].strip() if len(parts) > 1 else \"\"  # Reste de la ligne\n",
    "        return modalite, desc\n",
    "\n",
    "    def handle_special_cases(\n",
    "        variable: str, modalite: str, desc: str\n",
    "    ) -> tuple[str, str]:\n",
    "        \"\"\"Gère les cas spécifiques liés à certaines variables.\"\"\"\n",
    "        if variable in [\"Exterior2nd\", \"Exterior1st\"] and modalite == \"Wd\":\n",
    "            modalite = \"Wd Sdng\"\n",
    "            desc = \"Wood Siding\"\n",
    "        return modalite, desc\n",
    "\n",
    "    variables = {}\n",
    "    current_variable = None\n",
    "\n",
    "    with open(filepath, \"r\") as file:\n",
    "        for line in file:\n",
    "            line = line.strip()\n",
    "\n",
    "            # Ignorer les lignes vides\n",
    "            if not line:\n",
    "                continue\n",
    "\n",
    "            # Si la ligne contient \":\", traiter comme une variable\n",
    "            if \":\" in line:\n",
    "                variable, description = process_variable_line(line)\n",
    "                current_variable = variable\n",
    "                variables[current_variable] = {\n",
    "                    \"description\": description,\n",
    "                    \"modalites\": {},\n",
    "                }\n",
    "            elif current_variable:  # Si on est sur une modalité\n",
    "                modalite, desc = process_modalite_line(line)\n",
    "                modalite, desc = handle_special_cases(current_variable, modalite, desc)\n",
    "                variables[current_variable][\"modalites\"][modalite] = desc\n",
    "\n",
    "    return variables"
   ]
  },
  {
   "cell_type": "markdown",
   "metadata": {},
   "source": [
    "#### Application de la fonction\n",
    "\n",
    "##### Création du dictionnaire de correspondance\n"
   ]
  },
  {
   "cell_type": "code",
   "execution_count": 4,
   "metadata": {},
   "outputs": [],
   "source": [
    "dict_desc = read_desc_file(\"../data/raw/data_description.txt\")"
   ]
  },
  {
   "cell_type": "markdown",
   "metadata": {},
   "source": [
    "##### Création d'une fonction pour remplacer les modalités, grâce au dictionnaire de correspondance\n"
   ]
  },
  {
   "cell_type": "code",
   "execution_count": 5,
   "metadata": {},
   "outputs": [],
   "source": [
    "# Fonction pour remplacer les modalités dans le DataFrame\n",
    "def replace_mod(df: pd.DataFrame, dict_desc: dict) -> pd.DataFrame:\n",
    "    for colonne in df.columns:\n",
    "        if colonne in dict_desc:\n",
    "            modalites = dict_desc[colonne][\"modalites\"]\n",
    "            if modalites:  # Si le dictionnaire des modalités n'est pas vide\n",
    "                # Convertir les valeurs de la colonne en chaînes de caractères pour correspondre aux clés du dictionnaire\n",
    "                df[colonne] = (\n",
    "                    df[colonne].astype(str).str.strip()\n",
    "                )  # Assurer que c'est en string et enlever les espaces\n",
    "\n",
    "                # Remplacer les valeurs dans la colonne en utilisant le mappage\n",
    "                df[colonne] = df[colonne].replace(modalites)\n",
    "\n",
    "    return df"
   ]
  },
  {
   "cell_type": "markdown",
   "metadata": {},
   "source": [
    "##### Application de la fonction de modification des modalités sur les jeux de données\n"
   ]
  },
  {
   "cell_type": "code",
   "execution_count": 6,
   "metadata": {},
   "outputs": [],
   "source": [
    "# Appliquer la fonction pour remplacer les modalités\n",
    "train = replace_mod(train, dict_desc)\n",
    "test = replace_mod(test, dict_desc)"
   ]
  },
  {
   "cell_type": "markdown",
   "metadata": {},
   "source": [
    "##### Visualisation des transformations sur les premières lignes des jeux de données\n"
   ]
  },
  {
   "cell_type": "code",
   "execution_count": 7,
   "metadata": {},
   "outputs": [
    {
     "data": {
      "text/html": [
       "<div>\n",
       "<style scoped>\n",
       "    .dataframe tbody tr th:only-of-type {\n",
       "        vertical-align: middle;\n",
       "    }\n",
       "\n",
       "    .dataframe tbody tr th {\n",
       "        vertical-align: top;\n",
       "    }\n",
       "\n",
       "    .dataframe thead th {\n",
       "        text-align: right;\n",
       "    }\n",
       "</style>\n",
       "<table border=\"1\" class=\"dataframe\">\n",
       "  <thead>\n",
       "    <tr style=\"text-align: right;\">\n",
       "      <th></th>\n",
       "      <th>Id</th>\n",
       "      <th>MSSubClass</th>\n",
       "      <th>MSZoning</th>\n",
       "      <th>LotFrontage</th>\n",
       "      <th>LotArea</th>\n",
       "      <th>Street</th>\n",
       "      <th>Alley</th>\n",
       "      <th>LotShape</th>\n",
       "      <th>LandContour</th>\n",
       "      <th>Utilities</th>\n",
       "      <th>...</th>\n",
       "      <th>PoolArea</th>\n",
       "      <th>PoolQC</th>\n",
       "      <th>Fence</th>\n",
       "      <th>MiscFeature</th>\n",
       "      <th>MiscVal</th>\n",
       "      <th>MoSold</th>\n",
       "      <th>YrSold</th>\n",
       "      <th>SaleType</th>\n",
       "      <th>SaleCondition</th>\n",
       "      <th>SalePrice</th>\n",
       "    </tr>\n",
       "  </thead>\n",
       "  <tbody>\n",
       "    <tr>\n",
       "      <th>0</th>\n",
       "      <td>1</td>\n",
       "      <td>2-STORY 1946 &amp; NEWER</td>\n",
       "      <td>Residential Low Density</td>\n",
       "      <td>65.0</td>\n",
       "      <td>8450</td>\n",
       "      <td>Paved</td>\n",
       "      <td>nan</td>\n",
       "      <td>Regular</td>\n",
       "      <td>Near Flat/Level</td>\n",
       "      <td>All public Utilities (E,G,W,&amp; S)</td>\n",
       "      <td>...</td>\n",
       "      <td>0</td>\n",
       "      <td>nan</td>\n",
       "      <td>nan</td>\n",
       "      <td>nan</td>\n",
       "      <td>0</td>\n",
       "      <td>2</td>\n",
       "      <td>2008</td>\n",
       "      <td>Warranty Deed - Conventional</td>\n",
       "      <td>Normal Sale</td>\n",
       "      <td>208500</td>\n",
       "    </tr>\n",
       "    <tr>\n",
       "      <th>1</th>\n",
       "      <td>2</td>\n",
       "      <td>1-STORY 1946 &amp; NEWER ALL STYLES</td>\n",
       "      <td>Residential Low Density</td>\n",
       "      <td>80.0</td>\n",
       "      <td>9600</td>\n",
       "      <td>Paved</td>\n",
       "      <td>nan</td>\n",
       "      <td>Regular</td>\n",
       "      <td>Near Flat/Level</td>\n",
       "      <td>All public Utilities (E,G,W,&amp; S)</td>\n",
       "      <td>...</td>\n",
       "      <td>0</td>\n",
       "      <td>nan</td>\n",
       "      <td>nan</td>\n",
       "      <td>nan</td>\n",
       "      <td>0</td>\n",
       "      <td>5</td>\n",
       "      <td>2007</td>\n",
       "      <td>Warranty Deed - Conventional</td>\n",
       "      <td>Normal Sale</td>\n",
       "      <td>181500</td>\n",
       "    </tr>\n",
       "    <tr>\n",
       "      <th>2</th>\n",
       "      <td>3</td>\n",
       "      <td>2-STORY 1946 &amp; NEWER</td>\n",
       "      <td>Residential Low Density</td>\n",
       "      <td>68.0</td>\n",
       "      <td>11250</td>\n",
       "      <td>Paved</td>\n",
       "      <td>nan</td>\n",
       "      <td>Slightly irregular</td>\n",
       "      <td>Near Flat/Level</td>\n",
       "      <td>All public Utilities (E,G,W,&amp; S)</td>\n",
       "      <td>...</td>\n",
       "      <td>0</td>\n",
       "      <td>nan</td>\n",
       "      <td>nan</td>\n",
       "      <td>nan</td>\n",
       "      <td>0</td>\n",
       "      <td>9</td>\n",
       "      <td>2008</td>\n",
       "      <td>Warranty Deed - Conventional</td>\n",
       "      <td>Normal Sale</td>\n",
       "      <td>223500</td>\n",
       "    </tr>\n",
       "  </tbody>\n",
       "</table>\n",
       "<p>3 rows × 81 columns</p>\n",
       "</div>"
      ],
      "text/plain": [
       "   Id                       MSSubClass                 MSZoning  LotFrontage  \\\n",
       "0   1             2-STORY 1946 & NEWER  Residential Low Density         65.0   \n",
       "1   2  1-STORY 1946 & NEWER ALL STYLES  Residential Low Density         80.0   \n",
       "2   3             2-STORY 1946 & NEWER  Residential Low Density         68.0   \n",
       "\n",
       "   LotArea Street Alley            LotShape      LandContour  \\\n",
       "0     8450  Paved   nan             Regular  Near Flat/Level   \n",
       "1     9600  Paved   nan             Regular  Near Flat/Level   \n",
       "2    11250  Paved   nan  Slightly irregular  Near Flat/Level   \n",
       "\n",
       "                          Utilities  ... PoolArea PoolQC Fence MiscFeature  \\\n",
       "0  All public Utilities (E,G,W,& S)  ...        0    nan   nan         nan   \n",
       "1  All public Utilities (E,G,W,& S)  ...        0    nan   nan         nan   \n",
       "2  All public Utilities (E,G,W,& S)  ...        0    nan   nan         nan   \n",
       "\n",
       "  MiscVal MoSold YrSold                      SaleType SaleCondition  SalePrice  \n",
       "0       0      2   2008  Warranty Deed - Conventional   Normal Sale     208500  \n",
       "1       0      5   2007  Warranty Deed - Conventional   Normal Sale     181500  \n",
       "2       0      9   2008  Warranty Deed - Conventional   Normal Sale     223500  \n",
       "\n",
       "[3 rows x 81 columns]"
      ]
     },
     "execution_count": 7,
     "metadata": {},
     "output_type": "execute_result"
    }
   ],
   "source": [
    "train.head(3)"
   ]
  },
  {
   "cell_type": "code",
   "execution_count": 8,
   "metadata": {},
   "outputs": [
    {
     "data": {
      "text/html": [
       "<div>\n",
       "<style scoped>\n",
       "    .dataframe tbody tr th:only-of-type {\n",
       "        vertical-align: middle;\n",
       "    }\n",
       "\n",
       "    .dataframe tbody tr th {\n",
       "        vertical-align: top;\n",
       "    }\n",
       "\n",
       "    .dataframe thead th {\n",
       "        text-align: right;\n",
       "    }\n",
       "</style>\n",
       "<table border=\"1\" class=\"dataframe\">\n",
       "  <thead>\n",
       "    <tr style=\"text-align: right;\">\n",
       "      <th></th>\n",
       "      <th>Id</th>\n",
       "      <th>MSSubClass</th>\n",
       "      <th>MSZoning</th>\n",
       "      <th>LotFrontage</th>\n",
       "      <th>LotArea</th>\n",
       "      <th>Street</th>\n",
       "      <th>Alley</th>\n",
       "      <th>LotShape</th>\n",
       "      <th>LandContour</th>\n",
       "      <th>Utilities</th>\n",
       "      <th>...</th>\n",
       "      <th>ScreenPorch</th>\n",
       "      <th>PoolArea</th>\n",
       "      <th>PoolQC</th>\n",
       "      <th>Fence</th>\n",
       "      <th>MiscFeature</th>\n",
       "      <th>MiscVal</th>\n",
       "      <th>MoSold</th>\n",
       "      <th>YrSold</th>\n",
       "      <th>SaleType</th>\n",
       "      <th>SaleCondition</th>\n",
       "    </tr>\n",
       "  </thead>\n",
       "  <tbody>\n",
       "    <tr>\n",
       "      <th>0</th>\n",
       "      <td>1461</td>\n",
       "      <td>1-STORY 1946 &amp; NEWER ALL STYLES</td>\n",
       "      <td>Residential High Density</td>\n",
       "      <td>80.0</td>\n",
       "      <td>11622</td>\n",
       "      <td>Paved</td>\n",
       "      <td>nan</td>\n",
       "      <td>Regular</td>\n",
       "      <td>Near Flat/Level</td>\n",
       "      <td>All public Utilities (E,G,W,&amp; S)</td>\n",
       "      <td>...</td>\n",
       "      <td>120</td>\n",
       "      <td>0</td>\n",
       "      <td>nan</td>\n",
       "      <td>Minimum Privacy</td>\n",
       "      <td>nan</td>\n",
       "      <td>0</td>\n",
       "      <td>6</td>\n",
       "      <td>2010</td>\n",
       "      <td>Warranty Deed - Conventional</td>\n",
       "      <td>Normal Sale</td>\n",
       "    </tr>\n",
       "    <tr>\n",
       "      <th>1</th>\n",
       "      <td>1462</td>\n",
       "      <td>1-STORY 1946 &amp; NEWER ALL STYLES</td>\n",
       "      <td>Residential Low Density</td>\n",
       "      <td>81.0</td>\n",
       "      <td>14267</td>\n",
       "      <td>Paved</td>\n",
       "      <td>nan</td>\n",
       "      <td>Slightly irregular</td>\n",
       "      <td>Near Flat/Level</td>\n",
       "      <td>All public Utilities (E,G,W,&amp; S)</td>\n",
       "      <td>...</td>\n",
       "      <td>0</td>\n",
       "      <td>0</td>\n",
       "      <td>nan</td>\n",
       "      <td>nan</td>\n",
       "      <td>2nd Garage (if not described in garage section)</td>\n",
       "      <td>12500</td>\n",
       "      <td>6</td>\n",
       "      <td>2010</td>\n",
       "      <td>Warranty Deed - Conventional</td>\n",
       "      <td>Normal Sale</td>\n",
       "    </tr>\n",
       "    <tr>\n",
       "      <th>2</th>\n",
       "      <td>1463</td>\n",
       "      <td>2-STORY 1946 &amp; NEWER</td>\n",
       "      <td>Residential Low Density</td>\n",
       "      <td>74.0</td>\n",
       "      <td>13830</td>\n",
       "      <td>Paved</td>\n",
       "      <td>nan</td>\n",
       "      <td>Slightly irregular</td>\n",
       "      <td>Near Flat/Level</td>\n",
       "      <td>All public Utilities (E,G,W,&amp; S)</td>\n",
       "      <td>...</td>\n",
       "      <td>0</td>\n",
       "      <td>0</td>\n",
       "      <td>nan</td>\n",
       "      <td>Minimum Privacy</td>\n",
       "      <td>nan</td>\n",
       "      <td>0</td>\n",
       "      <td>3</td>\n",
       "      <td>2010</td>\n",
       "      <td>Warranty Deed - Conventional</td>\n",
       "      <td>Normal Sale</td>\n",
       "    </tr>\n",
       "  </tbody>\n",
       "</table>\n",
       "<p>3 rows × 80 columns</p>\n",
       "</div>"
      ],
      "text/plain": [
       "     Id                       MSSubClass                  MSZoning  \\\n",
       "0  1461  1-STORY 1946 & NEWER ALL STYLES  Residential High Density   \n",
       "1  1462  1-STORY 1946 & NEWER ALL STYLES   Residential Low Density   \n",
       "2  1463             2-STORY 1946 & NEWER   Residential Low Density   \n",
       "\n",
       "   LotFrontage  LotArea Street Alley            LotShape      LandContour  \\\n",
       "0         80.0    11622  Paved   nan             Regular  Near Flat/Level   \n",
       "1         81.0    14267  Paved   nan  Slightly irregular  Near Flat/Level   \n",
       "2         74.0    13830  Paved   nan  Slightly irregular  Near Flat/Level   \n",
       "\n",
       "                          Utilities  ... ScreenPorch PoolArea PoolQC  \\\n",
       "0  All public Utilities (E,G,W,& S)  ...         120        0    nan   \n",
       "1  All public Utilities (E,G,W,& S)  ...           0        0    nan   \n",
       "2  All public Utilities (E,G,W,& S)  ...           0        0    nan   \n",
       "\n",
       "             Fence                                      MiscFeature MiscVal  \\\n",
       "0  Minimum Privacy                                              nan       0   \n",
       "1              nan  2nd Garage (if not described in garage section)   12500   \n",
       "2  Minimum Privacy                                              nan       0   \n",
       "\n",
       "  MoSold YrSold                      SaleType  SaleCondition  \n",
       "0      6   2010  Warranty Deed - Conventional    Normal Sale  \n",
       "1      6   2010  Warranty Deed - Conventional    Normal Sale  \n",
       "2      3   2010  Warranty Deed - Conventional    Normal Sale  \n",
       "\n",
       "[3 rows x 80 columns]"
      ]
     },
     "execution_count": 8,
     "metadata": {},
     "output_type": "execute_result"
    }
   ],
   "source": [
    "test.head(3)"
   ]
  },
  {
   "cell_type": "markdown",
   "metadata": {},
   "source": [
    "## Analyse descriptive rapide\n",
    "\n",
    "### Création d'un rapport html de description\n",
    "\n",
    "#### Configuration rapide du rapport généré par ydata-profiling.\n",
    "\n",
    "L'idée, c'est d'avoir un peu de descriptif des données pour avoir une première idée de quoi corriger et comment. Le rapport est simplifié de manière à éviter un fichier trop lourd. Les corrélations seront analysées dans une autre partie.\n"
   ]
  },
  {
   "cell_type": "code",
   "execution_count": 9,
   "metadata": {},
   "outputs": [],
   "source": [
    "report = ProfileReport(\n",
    "    train,\n",
    "    title=\"House Pricing Model\",\n",
    "    html={\"style\": {\"theme\": \"flatly\", \"full_width\": True}},\n",
    "    correlations=None,\n",
    "    interactions={\"continuous\": False},\n",
    ")"
   ]
  },
  {
   "cell_type": "markdown",
   "metadata": {},
   "source": [
    "#### Génération du rapport\n"
   ]
  },
  {
   "cell_type": "code",
   "execution_count": 10,
   "metadata": {},
   "outputs": [
    {
     "data": {
      "application/vnd.jupyter.widget-view+json": {
       "model_id": "9448d7e3d1e946ba8f7986f9e211e283",
       "version_major": 2,
       "version_minor": 0
      },
      "text/plain": [
       "Summarize dataset:   0%|          | 0/5 [00:00<?, ?it/s]"
      ]
     },
     "metadata": {},
     "output_type": "display_data"
    },
    {
     "data": {
      "application/vnd.jupyter.widget-view+json": {
       "model_id": "c36eaec4434948c2a564e234fffd000c",
       "version_major": 2,
       "version_minor": 0
      },
      "text/plain": [
       "Generate report structure:   0%|          | 0/1 [00:00<?, ?it/s]"
      ]
     },
     "metadata": {},
     "output_type": "display_data"
    },
    {
     "data": {
      "application/vnd.jupyter.widget-view+json": {
       "model_id": "47cf1a7a458c42419e77c04006495bb2",
       "version_major": 2,
       "version_minor": 0
      },
      "text/plain": [
       "Render HTML:   0%|          | 0/1 [00:00<?, ?it/s]"
      ]
     },
     "metadata": {},
     "output_type": "display_data"
    },
    {
     "data": {
      "application/vnd.jupyter.widget-view+json": {
       "model_id": "83085714996e4756980aa846340842b2",
       "version_major": 2,
       "version_minor": 0
      },
      "text/plain": [
       "Export report to file:   0%|          | 0/1 [00:00<?, ?it/s]"
      ]
     },
     "metadata": {},
     "output_type": "display_data"
    }
   ],
   "source": [
    "report.to_file(\"../outputs/Projet-Kaggle-rapport-descriptif.html\")"
   ]
  },
  {
   "cell_type": "markdown",
   "metadata": {},
   "source": [
    "Je vous conseil de le consulter [ici](../outputs/Projet-Kaggle-rapport-descriptif.html)\n",
    "\n",
    "## Évaluation des différences entre train et test\n",
    "\n",
    "### Eurybia :\n",
    "\n",
    "Test pour voir si le dataframe train et test ont des différences, que ce soit en typage de données ou simplement en déformation des modalités. Pour faire cette comparaison, je vais utiliser Eurybia, une bibliothèque open-source de la MAIF. Pour plus d'info, regardez [ici](https://eurybia.readthedocs.io/en/latest/index.html). Concrétement, cette bibliothèque sert à tester/comparer des données et d'établir un rapport, suite à une classification binaire supervisée (par défaut, modèle Catboost).\n",
    "\n",
    "#### Configuration de la nature de la comparaison\n"
   ]
  },
  {
   "cell_type": "code",
   "execution_count": 11,
   "metadata": {},
   "outputs": [],
   "source": [
    "SD = SmartDrift(\n",
    "    df_current=train.drop(columns=[\"Id\", \"SalePrice\"]),\n",
    "    df_baseline=test.drop(columns=\"Id\"),\n",
    ")"
   ]
  },
  {
   "cell_type": "markdown",
   "metadata": {},
   "source": [
    "#### Compilation et exécution de notre comparaison\n"
   ]
  },
  {
   "cell_type": "code",
   "execution_count": 12,
   "metadata": {},
   "outputs": [
    {
     "name": "stdout",
     "output_type": "stream",
     "text": [
      "The following variables have mismatching dtypes\n",
      "             and will not be analyzed: \n",
      " ['BsmtFinSF1', 'BsmtFinSF2', 'BsmtUnfSF', 'TotalBsmtSF', 'BsmtFullBath', 'BsmtHalfBath', 'GarageCars', 'GarageArea']\n",
      "The variable MSSubClass has mismatching unique values:\n",
      "[] | ['1-1/2 STORY PUD - ALL AGES']\n",
      "\n",
      "The variable MSZoning has mismatching unique values:\n",
      "[] | ['nan']\n",
      "\n",
      "The variable Utilities has mismatching unique values:\n",
      "['Electricity and Gas Only'] | ['nan']\n",
      "\n",
      "The variable Condition2 has mismatching unique values:\n",
      "[\"Within 200' of North-South Railroad\", 'Adjacent to North-South Railroad', 'Adjacent to East-West Railroad'] | []\n",
      "\n",
      "The variable HouseStyle has mismatching unique values:\n",
      "['2.5Fin'] | []\n",
      "\n",
      "The variable RoofMatl has mismatching unique values:\n",
      "['Metal', 'Membrane', 'Roll', 'Clay or Tile'] | []\n",
      "\n",
      "The variable Exterior1st has mismatching unique values:\n",
      "['Stone', 'Imitation Stucco'] | ['nan']\n",
      "\n",
      "The variable Exterior2nd has mismatching unique values:\n",
      "['Other'] | ['nan']\n",
      "\n",
      "The variable Heating has mismatching unique values:\n",
      "['Hot water or steam heat other than gas', 'Floor Furnace'] | []\n",
      "\n",
      "The variable Electrical has mismatching unique values:\n",
      "['Mixed', 'nan'] | []\n",
      "\n",
      "The variable KitchenQual has mismatching unique values:\n",
      "[] | ['nan']\n",
      "\n",
      "The variable Functional has mismatching unique values:\n",
      "[] | ['nan']\n",
      "\n",
      "The variable GarageQual has mismatching unique values:\n",
      "['Excellent'] | []\n",
      "\n",
      "The variable PoolQC has mismatching unique values:\n",
      "['Fair'] | []\n",
      "\n",
      "The variable MiscFeature has mismatching unique values:\n",
      "['Tennis Court'] | []\n",
      "\n",
      "The variable SaleType has mismatching unique values:\n",
      "[] | ['nan']\n",
      "\n",
      "INFO: Shap explainer type - <shap.explainers._tree.TreeExplainer object at 0x000001325E27A3C0>\n",
      "CPU times: total: 2min 14s\n",
      "Wall time: 35 s\n"
     ]
    }
   ],
   "source": [
    "%time SD.compile(full_validation=True)"
   ]
  },
  {
   "cell_type": "markdown",
   "metadata": {},
   "source": [
    "Ici, on a deux types d'alertes :\n",
    "\n",
    "- Les alertes concernant un typage de données différentes\n",
    "- Les alertes concernant des valeurs uniques de modalités présentent dans un jeu de données et pas dans l'autre.\n",
    "\n",
    "### Contrôle des différences de typage\n"
   ]
  },
  {
   "cell_type": "code",
   "execution_count": 13,
   "metadata": {},
   "outputs": [
    {
     "name": "stdout",
     "output_type": "stream",
     "text": [
      "Colonne BsmtFinSF1 :\n",
      " type pour train : int64 | contient des NaN: False        \n",
      " type pour test : float64 | contient des NaN: True\n",
      "Colonne BsmtFinSF2 :\n",
      " type pour train : int64 | contient des NaN: False        \n",
      " type pour test : float64 | contient des NaN: True\n",
      "Colonne BsmtUnfSF :\n",
      " type pour train : int64 | contient des NaN: False        \n",
      " type pour test : float64 | contient des NaN: True\n",
      "Colonne TotalBsmtSF :\n",
      " type pour train : int64 | contient des NaN: False        \n",
      " type pour test : float64 | contient des NaN: True\n",
      "Colonne BsmtFullBath :\n",
      " type pour train : int64 | contient des NaN: False        \n",
      " type pour test : float64 | contient des NaN: True\n",
      "Colonne BsmtHalfBath :\n",
      " type pour train : int64 | contient des NaN: False        \n",
      " type pour test : float64 | contient des NaN: True\n",
      "Colonne GarageCars :\n",
      " type pour train : int64 | contient des NaN: False        \n",
      " type pour test : float64 | contient des NaN: True\n",
      "Colonne GarageArea :\n",
      " type pour train : int64 | contient des NaN: False        \n",
      " type pour test : float64 | contient des NaN: True\n"
     ]
    }
   ],
   "source": [
    "list_col = [\n",
    "    \"BsmtFinSF1\",\n",
    "    \"BsmtFinSF2\",\n",
    "    \"BsmtUnfSF\",\n",
    "    \"TotalBsmtSF\",\n",
    "    \"BsmtFullBath\",\n",
    "    \"BsmtHalfBath\",\n",
    "    \"GarageCars\",\n",
    "    \"GarageArea\",\n",
    "]\n",
    "for col in list_col:\n",
    "    print(\n",
    "        f\"Colonne {col} :\\n type pour train : {train[col].dtype} | contient des NaN: {train[col].isna().any()}\\\n",
    "        \\n type pour test : {test[col].dtype} | contient des NaN: {test[col].isna().any()}\"\n",
    "    )"
   ]
  },
  {
   "cell_type": "markdown",
   "metadata": {},
   "source": [
    "Comme pressenti, il s'agit simplement du fait que lorsqu'il y a des NaN, les valeurs entières se transforment en float.\n",
    "\n",
    "### Bilan sur la différence entre train et test\n",
    "\n",
    "AUC permettant de voir si les données issues de train et test sont séparé (classification binaire)\n"
   ]
  },
  {
   "cell_type": "code",
   "execution_count": 14,
   "metadata": {},
   "outputs": [
    {
     "data": {
      "application/vnd.plotly.v1+json": {
       "config": {
        "plotlyServerURL": "https://plot.ly"
       },
       "data": [
        {
         "domain": {
          "x": [
           0,
           1
          ],
          "y": [
           0,
           1
          ]
         },
         "gauge": {
          "axis": {
           "range": [
            0.5,
            1
           ],
           "ticktext": [
            "No Drift",
            "High Drift"
           ],
           "tickwidth": 1
          },
          "bar": {
           "color": "black"
          },
          "borderwidth": 0,
          "steps": [
           {
            "color": "#008000",
            "range": [
             0.5,
             0.505
            ]
           },
           {
            "color": "#068300",
            "range": [
             0.505,
             0.51
            ]
           },
           {
            "color": "#0f8700",
            "range": [
             0.51,
             0.515
            ]
           },
           {
            "color": "#158a00",
            "range": [
             0.515,
             0.52
            ]
           },
           {
            "color": "#1e8f00",
            "range": [
             0.52,
             0.525
            ]
           },
           {
            "color": "#249200",
            "range": [
             0.525,
             0.53
            ]
           },
           {
            "color": "#2d9600",
            "range": [
             0.53,
             0.535
            ]
           },
           {
            "color": "#369b00",
            "range": [
             0.535,
             0.54
            ]
           },
           {
            "color": "#3c9e00",
            "range": [
             0.54,
             0.545
            ]
           },
           {
            "color": "#45a200",
            "range": [
             0.545,
             0.55
            ]
           },
           {
            "color": "#4ba500",
            "range": [
             0.55,
             0.555
            ]
           },
           {
            "color": "#54aa00",
            "range": [
             0.555,
             0.56
            ]
           },
           {
            "color": "#5dae00",
            "range": [
             0.56,
             0.5650000000000001
            ]
           },
           {
            "color": "#63b100",
            "range": [
             0.5650000000000001,
             0.5700000000000001
            ]
           },
           {
            "color": "#6cb600",
            "range": [
             0.5700000000000001,
             0.5750000000000001
            ]
           },
           {
            "color": "#72b900",
            "range": [
             0.5750000000000001,
             0.5800000000000001
            ]
           },
           {
            "color": "#7bbd00",
            "range": [
             0.5800000000000001,
             0.5850000000000001
            ]
           },
           {
            "color": "#81c000",
            "range": [
             0.5850000000000001,
             0.5900000000000001
            ]
           },
           {
            "color": "#8ac500",
            "range": [
             0.5900000000000001,
             0.5950000000000001
            ]
           },
           {
            "color": "#93c900",
            "range": [
             0.5950000000000001,
             0.6000000000000001
            ]
           },
           {
            "color": "#99cc00",
            "range": [
             0.6000000000000001,
             0.6050000000000001
            ]
           },
           {
            "color": "#a2d100",
            "range": [
             0.6050000000000001,
             0.6100000000000001
            ]
           },
           {
            "color": "#a8d400",
            "range": [
             0.6100000000000001,
             0.6150000000000001
            ]
           },
           {
            "color": "#b1d800",
            "range": [
             0.6150000000000001,
             0.6200000000000001
            ]
           },
           {
            "color": "#badd00",
            "range": [
             0.6200000000000001,
             0.6250000000000001
            ]
           },
           {
            "color": "#c0e000",
            "range": [
             0.6250000000000001,
             0.6300000000000001
            ]
           },
           {
            "color": "#c9e400",
            "range": [
             0.6300000000000001,
             0.6350000000000001
            ]
           },
           {
            "color": "#cfe700",
            "range": [
             0.6350000000000001,
             0.6400000000000001
            ]
           },
           {
            "color": "#d8ec00",
            "range": [
             0.6400000000000001,
             0.6450000000000001
            ]
           },
           {
            "color": "#deef00",
            "range": [
             0.6450000000000001,
             0.6500000000000001
            ]
           },
           {
            "color": "#e7f300",
            "range": [
             0.6500000000000001,
             0.6550000000000001
            ]
           },
           {
            "color": "#f0f800",
            "range": [
             0.6550000000000001,
             0.6600000000000001
            ]
           },
           {
            "color": "#f6fb00",
            "range": [
             0.6600000000000001,
             0.6650000000000001
            ]
           },
           {
            "color": "#ffff00",
            "range": [
             0.6650000000000001,
             0.6700000000000002
            ]
           },
           {
            "color": "#fffd00",
            "range": [
             0.6700000000000002,
             0.6750000000000002
            ]
           },
           {
            "color": "#fffa00",
            "range": [
             0.6750000000000002,
             0.6800000000000002
            ]
           },
           {
            "color": "#fff700",
            "range": [
             0.6800000000000002,
             0.6850000000000002
            ]
           },
           {
            "color": "#fff400",
            "range": [
             0.6850000000000002,
             0.6900000000000002
            ]
           },
           {
            "color": "#fff100",
            "range": [
             0.6900000000000002,
             0.6950000000000002
            ]
           },
           {
            "color": "#ffef00",
            "range": [
             0.6950000000000002,
             0.7000000000000002
            ]
           },
           {
            "color": "#ffec00",
            "range": [
             0.7000000000000002,
             0.7050000000000002
            ]
           },
           {
            "color": "#ffe900",
            "range": [
             0.7050000000000002,
             0.7100000000000002
            ]
           },
           {
            "color": "#ffe700",
            "range": [
             0.7100000000000002,
             0.7150000000000002
            ]
           },
           {
            "color": "#ffe300",
            "range": [
             0.7150000000000002,
             0.7200000000000002
            ]
           },
           {
            "color": "#ffe100",
            "range": [
             0.7200000000000002,
             0.7250000000000002
            ]
           },
           {
            "color": "#ffde00",
            "range": [
             0.7250000000000002,
             0.7300000000000002
            ]
           },
           {
            "color": "#ffdc00",
            "range": [
             0.7300000000000002,
             0.7350000000000002
            ]
           },
           {
            "color": "#ffd900",
            "range": [
             0.7350000000000002,
             0.7400000000000002
            ]
           },
           {
            "color": "#ffd600",
            "range": [
             0.7400000000000002,
             0.7450000000000002
            ]
           },
           {
            "color": "#ffd400",
            "range": [
             0.7450000000000002,
             0.7500000000000002
            ]
           },
           {
            "color": "#ffd000",
            "range": [
             0.7500000000000002,
             0.7550000000000002
            ]
           },
           {
            "color": "#ffce00",
            "range": [
             0.7550000000000002,
             0.7600000000000002
            ]
           },
           {
            "color": "#ffcb00",
            "range": [
             0.7600000000000002,
             0.7650000000000002
            ]
           },
           {
            "color": "#ffc800",
            "range": [
             0.7650000000000002,
             0.7700000000000002
            ]
           },
           {
            "color": "#ffc600",
            "range": [
             0.7700000000000002,
             0.7750000000000002
            ]
           },
           {
            "color": "#ffc300",
            "range": [
             0.7750000000000002,
             0.7800000000000002
            ]
           },
           {
            "color": "#ffc100",
            "range": [
             0.7800000000000002,
             0.7850000000000003
            ]
           },
           {
            "color": "#ffbd00",
            "range": [
             0.7850000000000003,
             0.7900000000000003
            ]
           },
           {
            "color": "#ffbb00",
            "range": [
             0.7900000000000003,
             0.7950000000000003
            ]
           },
           {
            "color": "#ffb800",
            "range": [
             0.7950000000000003,
             0.8000000000000003
            ]
           },
           {
            "color": "#ffb500",
            "range": [
             0.8000000000000003,
             0.8050000000000003
            ]
           },
           {
            "color": "#ffb300",
            "range": [
             0.8050000000000003,
             0.8100000000000003
            ]
           },
           {
            "color": "#ffb000",
            "range": [
             0.8100000000000003,
             0.8150000000000003
            ]
           },
           {
            "color": "#ffad00",
            "range": [
             0.8150000000000003,
             0.8200000000000003
            ]
           },
           {
            "color": "#ffaa00",
            "range": [
             0.8200000000000003,
             0.8250000000000003
            ]
           },
           {
            "color": "#ffa700",
            "range": [
             0.8250000000000003,
             0.8300000000000003
            ]
           },
           {
            "color": "#ffa500",
            "range": [
             0.8300000000000003,
             0.8350000000000003
            ]
           },
           {
            "color": "#ff9f00",
            "range": [
             0.8350000000000003,
             0.8400000000000003
            ]
           },
           {
            "color": "#ff9b00",
            "range": [
             0.8400000000000003,
             0.8450000000000003
            ]
           },
           {
            "color": "#ff9500",
            "range": [
             0.8450000000000003,
             0.8500000000000003
            ]
           },
           {
            "color": "#ff9000",
            "range": [
             0.8500000000000003,
             0.8550000000000003
            ]
           },
           {
            "color": "#ff8c00",
            "range": [
             0.8550000000000003,
             0.8600000000000003
            ]
           },
           {
            "color": "#ff8600",
            "range": [
             0.8600000000000003,
             0.8650000000000003
            ]
           },
           {
            "color": "#ff8200",
            "range": [
             0.8650000000000003,
             0.8700000000000003
            ]
           },
           {
            "color": "#ff7c00",
            "range": [
             0.8700000000000003,
             0.8750000000000003
            ]
           },
           {
            "color": "#ff7800",
            "range": [
             0.8750000000000003,
             0.8800000000000003
            ]
           },
           {
            "color": "#ff7300",
            "range": [
             0.8800000000000003,
             0.8850000000000003
            ]
           },
           {
            "color": "#ff6d00",
            "range": [
             0.8850000000000003,
             0.8900000000000003
            ]
           },
           {
            "color": "#ff6900",
            "range": [
             0.8900000000000003,
             0.8950000000000004
            ]
           },
           {
            "color": "#ff6300",
            "range": [
             0.8950000000000004,
             0.9000000000000004
            ]
           },
           {
            "color": "#ff5f00",
            "range": [
             0.9000000000000004,
             0.9050000000000004
            ]
           },
           {
            "color": "#ff5900",
            "range": [
             0.9050000000000004,
             0.9100000000000004
            ]
           },
           {
            "color": "#ff5300",
            "range": [
             0.9100000000000004,
             0.9150000000000004
            ]
           },
           {
            "color": "#ff5000",
            "range": [
             0.9150000000000004,
             0.9200000000000004
            ]
           },
           {
            "color": "#ff4a00",
            "range": [
             0.9200000000000004,
             0.9250000000000004
            ]
           },
           {
            "color": "#ff4600",
            "range": [
             0.9250000000000004,
             0.9300000000000004
            ]
           },
           {
            "color": "#ff4000",
            "range": [
             0.9300000000000004,
             0.9350000000000004
            ]
           },
           {
            "color": "#ff3c00",
            "range": [
             0.9350000000000004,
             0.9400000000000004
            ]
           },
           {
            "color": "#ff3600",
            "range": [
             0.9400000000000004,
             0.9450000000000004
            ]
           },
           {
            "color": "#ff3100",
            "range": [
             0.9450000000000004,
             0.9500000000000004
            ]
           },
           {
            "color": "#ff2d00",
            "range": [
             0.9500000000000004,
             0.9550000000000004
            ]
           },
           {
            "color": "#ff2700",
            "range": [
             0.9550000000000004,
             0.9600000000000004
            ]
           },
           {
            "color": "#ff2300",
            "range": [
             0.9600000000000004,
             0.9650000000000004
            ]
           },
           {
            "color": "#ff1d00",
            "range": [
             0.9650000000000004,
             0.9700000000000004
            ]
           },
           {
            "color": "#ff1700",
            "range": [
             0.9700000000000004,
             0.9750000000000004
            ]
           },
           {
            "color": "#ff1300",
            "range": [
             0.9750000000000004,
             0.9800000000000004
            ]
           },
           {
            "color": "#ff0e00",
            "range": [
             0.9800000000000004,
             0.9850000000000004
            ]
           },
           {
            "color": "#ff0a00",
            "range": [
             0.9850000000000004,
             0.9900000000000004
            ]
           },
           {
            "color": "#ff0400",
            "range": [
             0.9900000000000004,
             0.9950000000000004
            ]
           },
           {
            "color": "#ff0000",
            "range": [
             0.9950000000000004,
             1
            ]
           }
          ]
         },
         "mode": "gauge+number",
         "title": {
          "align": "center",
          "font": {
           "size": 20
          },
          "text": "AUC train vs test"
         },
         "type": "indicator",
         "value": 0.49
        }
       ],
       "layout": {
        "height": 300,
        "template": {
         "data": {
          "bar": [
           {
            "error_x": {
             "color": "#2a3f5f"
            },
            "error_y": {
             "color": "#2a3f5f"
            },
            "marker": {
             "line": {
              "color": "#E5ECF6",
              "width": 0.5
             },
             "pattern": {
              "fillmode": "overlay",
              "size": 10,
              "solidity": 0.2
             }
            },
            "type": "bar"
           }
          ],
          "barpolar": [
           {
            "marker": {
             "line": {
              "color": "#E5ECF6",
              "width": 0.5
             },
             "pattern": {
              "fillmode": "overlay",
              "size": 10,
              "solidity": 0.2
             }
            },
            "type": "barpolar"
           }
          ],
          "carpet": [
           {
            "aaxis": {
             "endlinecolor": "#2a3f5f",
             "gridcolor": "white",
             "linecolor": "white",
             "minorgridcolor": "white",
             "startlinecolor": "#2a3f5f"
            },
            "baxis": {
             "endlinecolor": "#2a3f5f",
             "gridcolor": "white",
             "linecolor": "white",
             "minorgridcolor": "white",
             "startlinecolor": "#2a3f5f"
            },
            "type": "carpet"
           }
          ],
          "choropleth": [
           {
            "colorbar": {
             "outlinewidth": 0,
             "ticks": ""
            },
            "type": "choropleth"
           }
          ],
          "contour": [
           {
            "colorbar": {
             "outlinewidth": 0,
             "ticks": ""
            },
            "colorscale": [
             [
              0,
              "#0d0887"
             ],
             [
              0.1111111111111111,
              "#46039f"
             ],
             [
              0.2222222222222222,
              "#7201a8"
             ],
             [
              0.3333333333333333,
              "#9c179e"
             ],
             [
              0.4444444444444444,
              "#bd3786"
             ],
             [
              0.5555555555555556,
              "#d8576b"
             ],
             [
              0.6666666666666666,
              "#ed7953"
             ],
             [
              0.7777777777777778,
              "#fb9f3a"
             ],
             [
              0.8888888888888888,
              "#fdca26"
             ],
             [
              1,
              "#f0f921"
             ]
            ],
            "type": "contour"
           }
          ],
          "contourcarpet": [
           {
            "colorbar": {
             "outlinewidth": 0,
             "ticks": ""
            },
            "type": "contourcarpet"
           }
          ],
          "heatmap": [
           {
            "colorbar": {
             "outlinewidth": 0,
             "ticks": ""
            },
            "colorscale": [
             [
              0,
              "#0d0887"
             ],
             [
              0.1111111111111111,
              "#46039f"
             ],
             [
              0.2222222222222222,
              "#7201a8"
             ],
             [
              0.3333333333333333,
              "#9c179e"
             ],
             [
              0.4444444444444444,
              "#bd3786"
             ],
             [
              0.5555555555555556,
              "#d8576b"
             ],
             [
              0.6666666666666666,
              "#ed7953"
             ],
             [
              0.7777777777777778,
              "#fb9f3a"
             ],
             [
              0.8888888888888888,
              "#fdca26"
             ],
             [
              1,
              "#f0f921"
             ]
            ],
            "type": "heatmap"
           }
          ],
          "heatmapgl": [
           {
            "colorbar": {
             "outlinewidth": 0,
             "ticks": ""
            },
            "colorscale": [
             [
              0,
              "#0d0887"
             ],
             [
              0.1111111111111111,
              "#46039f"
             ],
             [
              0.2222222222222222,
              "#7201a8"
             ],
             [
              0.3333333333333333,
              "#9c179e"
             ],
             [
              0.4444444444444444,
              "#bd3786"
             ],
             [
              0.5555555555555556,
              "#d8576b"
             ],
             [
              0.6666666666666666,
              "#ed7953"
             ],
             [
              0.7777777777777778,
              "#fb9f3a"
             ],
             [
              0.8888888888888888,
              "#fdca26"
             ],
             [
              1,
              "#f0f921"
             ]
            ],
            "type": "heatmapgl"
           }
          ],
          "histogram": [
           {
            "marker": {
             "pattern": {
              "fillmode": "overlay",
              "size": 10,
              "solidity": 0.2
             }
            },
            "type": "histogram"
           }
          ],
          "histogram2d": [
           {
            "colorbar": {
             "outlinewidth": 0,
             "ticks": ""
            },
            "colorscale": [
             [
              0,
              "#0d0887"
             ],
             [
              0.1111111111111111,
              "#46039f"
             ],
             [
              0.2222222222222222,
              "#7201a8"
             ],
             [
              0.3333333333333333,
              "#9c179e"
             ],
             [
              0.4444444444444444,
              "#bd3786"
             ],
             [
              0.5555555555555556,
              "#d8576b"
             ],
             [
              0.6666666666666666,
              "#ed7953"
             ],
             [
              0.7777777777777778,
              "#fb9f3a"
             ],
             [
              0.8888888888888888,
              "#fdca26"
             ],
             [
              1,
              "#f0f921"
             ]
            ],
            "type": "histogram2d"
           }
          ],
          "histogram2dcontour": [
           {
            "colorbar": {
             "outlinewidth": 0,
             "ticks": ""
            },
            "colorscale": [
             [
              0,
              "#0d0887"
             ],
             [
              0.1111111111111111,
              "#46039f"
             ],
             [
              0.2222222222222222,
              "#7201a8"
             ],
             [
              0.3333333333333333,
              "#9c179e"
             ],
             [
              0.4444444444444444,
              "#bd3786"
             ],
             [
              0.5555555555555556,
              "#d8576b"
             ],
             [
              0.6666666666666666,
              "#ed7953"
             ],
             [
              0.7777777777777778,
              "#fb9f3a"
             ],
             [
              0.8888888888888888,
              "#fdca26"
             ],
             [
              1,
              "#f0f921"
             ]
            ],
            "type": "histogram2dcontour"
           }
          ],
          "mesh3d": [
           {
            "colorbar": {
             "outlinewidth": 0,
             "ticks": ""
            },
            "type": "mesh3d"
           }
          ],
          "parcoords": [
           {
            "line": {
             "colorbar": {
              "outlinewidth": 0,
              "ticks": ""
             }
            },
            "type": "parcoords"
           }
          ],
          "pie": [
           {
            "automargin": true,
            "type": "pie"
           }
          ],
          "scatter": [
           {
            "fillpattern": {
             "fillmode": "overlay",
             "size": 10,
             "solidity": 0.2
            },
            "type": "scatter"
           }
          ],
          "scatter3d": [
           {
            "line": {
             "colorbar": {
              "outlinewidth": 0,
              "ticks": ""
             }
            },
            "marker": {
             "colorbar": {
              "outlinewidth": 0,
              "ticks": ""
             }
            },
            "type": "scatter3d"
           }
          ],
          "scattercarpet": [
           {
            "marker": {
             "colorbar": {
              "outlinewidth": 0,
              "ticks": ""
             }
            },
            "type": "scattercarpet"
           }
          ],
          "scattergeo": [
           {
            "marker": {
             "colorbar": {
              "outlinewidth": 0,
              "ticks": ""
             }
            },
            "type": "scattergeo"
           }
          ],
          "scattergl": [
           {
            "marker": {
             "colorbar": {
              "outlinewidth": 0,
              "ticks": ""
             }
            },
            "type": "scattergl"
           }
          ],
          "scattermapbox": [
           {
            "marker": {
             "colorbar": {
              "outlinewidth": 0,
              "ticks": ""
             }
            },
            "type": "scattermapbox"
           }
          ],
          "scatterpolar": [
           {
            "marker": {
             "colorbar": {
              "outlinewidth": 0,
              "ticks": ""
             }
            },
            "type": "scatterpolar"
           }
          ],
          "scatterpolargl": [
           {
            "marker": {
             "colorbar": {
              "outlinewidth": 0,
              "ticks": ""
             }
            },
            "type": "scatterpolargl"
           }
          ],
          "scatterternary": [
           {
            "marker": {
             "colorbar": {
              "outlinewidth": 0,
              "ticks": ""
             }
            },
            "type": "scatterternary"
           }
          ],
          "surface": [
           {
            "colorbar": {
             "outlinewidth": 0,
             "ticks": ""
            },
            "colorscale": [
             [
              0,
              "#0d0887"
             ],
             [
              0.1111111111111111,
              "#46039f"
             ],
             [
              0.2222222222222222,
              "#7201a8"
             ],
             [
              0.3333333333333333,
              "#9c179e"
             ],
             [
              0.4444444444444444,
              "#bd3786"
             ],
             [
              0.5555555555555556,
              "#d8576b"
             ],
             [
              0.6666666666666666,
              "#ed7953"
             ],
             [
              0.7777777777777778,
              "#fb9f3a"
             ],
             [
              0.8888888888888888,
              "#fdca26"
             ],
             [
              1,
              "#f0f921"
             ]
            ],
            "type": "surface"
           }
          ],
          "table": [
           {
            "cells": {
             "fill": {
              "color": "#EBF0F8"
             },
             "line": {
              "color": "white"
             }
            },
            "header": {
             "fill": {
              "color": "#C8D4E3"
             },
             "line": {
              "color": "white"
             }
            },
            "type": "table"
           }
          ]
         },
         "layout": {
          "annotationdefaults": {
           "arrowcolor": "#2a3f5f",
           "arrowhead": 0,
           "arrowwidth": 1
          },
          "autotypenumbers": "strict",
          "coloraxis": {
           "colorbar": {
            "outlinewidth": 0,
            "ticks": ""
           }
          },
          "colorscale": {
           "diverging": [
            [
             0,
             "#8e0152"
            ],
            [
             0.1,
             "#c51b7d"
            ],
            [
             0.2,
             "#de77ae"
            ],
            [
             0.3,
             "#f1b6da"
            ],
            [
             0.4,
             "#fde0ef"
            ],
            [
             0.5,
             "#f7f7f7"
            ],
            [
             0.6,
             "#e6f5d0"
            ],
            [
             0.7,
             "#b8e186"
            ],
            [
             0.8,
             "#7fbc41"
            ],
            [
             0.9,
             "#4d9221"
            ],
            [
             1,
             "#276419"
            ]
           ],
           "sequential": [
            [
             0,
             "#0d0887"
            ],
            [
             0.1111111111111111,
             "#46039f"
            ],
            [
             0.2222222222222222,
             "#7201a8"
            ],
            [
             0.3333333333333333,
             "#9c179e"
            ],
            [
             0.4444444444444444,
             "#bd3786"
            ],
            [
             0.5555555555555556,
             "#d8576b"
            ],
            [
             0.6666666666666666,
             "#ed7953"
            ],
            [
             0.7777777777777778,
             "#fb9f3a"
            ],
            [
             0.8888888888888888,
             "#fdca26"
            ],
            [
             1,
             "#f0f921"
            ]
           ],
           "sequentialminus": [
            [
             0,
             "#0d0887"
            ],
            [
             0.1111111111111111,
             "#46039f"
            ],
            [
             0.2222222222222222,
             "#7201a8"
            ],
            [
             0.3333333333333333,
             "#9c179e"
            ],
            [
             0.4444444444444444,
             "#bd3786"
            ],
            [
             0.5555555555555556,
             "#d8576b"
            ],
            [
             0.6666666666666666,
             "#ed7953"
            ],
            [
             0.7777777777777778,
             "#fb9f3a"
            ],
            [
             0.8888888888888888,
             "#fdca26"
            ],
            [
             1,
             "#f0f921"
            ]
           ]
          },
          "colorway": [
           "#636efa",
           "#EF553B",
           "#00cc96",
           "#ab63fa",
           "#FFA15A",
           "#19d3f3",
           "#FF6692",
           "#B6E880",
           "#FF97FF",
           "#FECB52"
          ],
          "font": {
           "color": "#2a3f5f"
          },
          "geo": {
           "bgcolor": "white",
           "lakecolor": "white",
           "landcolor": "#E5ECF6",
           "showlakes": true,
           "showland": true,
           "subunitcolor": "white"
          },
          "hoverlabel": {
           "align": "left"
          },
          "hovermode": "closest",
          "mapbox": {
           "style": "light"
          },
          "paper_bgcolor": "white",
          "plot_bgcolor": "#E5ECF6",
          "polar": {
           "angularaxis": {
            "gridcolor": "white",
            "linecolor": "white",
            "ticks": ""
           },
           "bgcolor": "#E5ECF6",
           "radialaxis": {
            "gridcolor": "white",
            "linecolor": "white",
            "ticks": ""
           }
          },
          "scene": {
           "xaxis": {
            "backgroundcolor": "#E5ECF6",
            "gridcolor": "white",
            "gridwidth": 2,
            "linecolor": "white",
            "showbackground": true,
            "ticks": "",
            "zerolinecolor": "white"
           },
           "yaxis": {
            "backgroundcolor": "#E5ECF6",
            "gridcolor": "white",
            "gridwidth": 2,
            "linecolor": "white",
            "showbackground": true,
            "ticks": "",
            "zerolinecolor": "white"
           },
           "zaxis": {
            "backgroundcolor": "#E5ECF6",
            "gridcolor": "white",
            "gridwidth": 2,
            "linecolor": "white",
            "showbackground": true,
            "ticks": "",
            "zerolinecolor": "white"
           }
          },
          "shapedefaults": {
           "line": {
            "color": "#2a3f5f"
           }
          },
          "ternary": {
           "aaxis": {
            "gridcolor": "white",
            "linecolor": "white",
            "ticks": ""
           },
           "baxis": {
            "gridcolor": "white",
            "linecolor": "white",
            "ticks": ""
           },
           "bgcolor": "#E5ECF6",
           "caxis": {
            "gridcolor": "white",
            "linecolor": "white",
            "ticks": ""
           }
          },
          "title": {
           "x": 0.05
          },
          "xaxis": {
           "automargin": true,
           "gridcolor": "white",
           "linecolor": "white",
           "ticks": "",
           "title": {
            "standoff": 15
           },
           "zerolinecolor": "white",
           "zerolinewidth": 2
          },
          "yaxis": {
           "automargin": true,
           "gridcolor": "white",
           "linecolor": "white",
           "ticks": "",
           "title": {
            "standoff": 15
           },
           "zerolinecolor": "white",
           "zerolinewidth": 2
          }
         }
        },
        "width": 500
       }
      }
     },
     "metadata": {},
     "output_type": "display_data"
    }
   ],
   "source": [
    "SD.plot.generate_indicator(\n",
    "    fig_value=SD.auc, height=300, width=500, title=\"AUC train vs test\"\n",
    ")"
   ]
  },
  {
   "cell_type": "markdown",
   "metadata": {},
   "source": [
    "A priori, train et test sont semblables. Les alertes concernant le typage vont être traitées (imputation des NaN et conversion). Les alertes concernant les modalités vont être traitées au cas par cas. Mais ces deux avertissements semblent relever des cas de figure suffisamment marginaux pour que le modèle de classification n'arrive pas à faire la différence, entre train et test.\n",
    "\n",
    "## Correction des données\n",
    "\n",
    "### Valeurs manquantes\n",
    "\n",
    "- Reprise des valeurs manquantes présentent dans \"test\", pour les valeurs numériques\n",
    "- BsmtQual/BsmtExposure/BsmtFinType2 : qualité du sous-sol/exposition du sous-sol/note de la partie sous-sol finie (cas complexe)\n",
    "  - NaN à convertir en \"No Basement\" (pas de sous-sol)\n",
    "- Electrical : circuit électrique (qualité)\n",
    "  - NaN à convertir en \"No Electricity\" (pas d'électricité)\n",
    "- Exterior1st/2nd : matériaux extérieurs\n",
    "  - NaN à convertir en \"Not specified\"\n",
    "- Fence : barrière\n",
    "  - NaN à convertir en \"No Fence\" (Pas de Barrière)\n",
    "- FireplaceQu : qualité des cheminés\n",
    "  - NaN à convertir en \"No Fireplace\" (pas de cheminée)\n",
    "- Functional : fonctionnalité générale de la maison\n",
    "  - NaN à convertir en \"Not specified\"\n",
    "- GarageType/GarageFinish/GarageQual : type de garage/finition du garage/qualité\n",
    "  - NaN à convertir en \"No Garage\" (pas de garage)\n",
    "- KitchenQual : qualité de la cuisine\n",
    "  - NaN à convertir en \"Not specified\"\n",
    "- Lot Frontage : nombre de pieds du terrain connecté avec la route\n",
    "  - Pour moi, le minimum étant sur le jeu d'entraînement de 21, je décide d'imputer les données à 0 pour le manquant.\n",
    "  - En clair, si c'est NaN, pour moi, ça veut dire qu'il n'y a aucune partie du terrain longé par une route.\n",
    "  - S'il y avait eu des zéros déjà présent dans les données, alors j'aurai appliqué un autre traitement.\n",
    "- MasVnrType : type de placage en maçonnerie\n",
    "  - NaN à convertir en \"no veener\" (pas de placage)\n",
    "- MiscFeature : variable \"bazar\"\n",
    "  - NaN à convertir en \"No specificity\"\n",
    "- MSZoning : environnement\n",
    "  - NaN à convertir en \"C (all)\" (nan sur le jeu de test)\n",
    "- PoolQC : qualité de la piscine\n",
    "  - NaN à convertir en \"No pool\"\n",
    "- SaleType : type de vente\n",
    "  - NaN à convertir en \"Other\"\n",
    "\n",
    "#### Quantitatif\n"
   ]
  },
  {
   "cell_type": "code",
   "execution_count": 15,
   "metadata": {},
   "outputs": [],
   "source": [
    "list_col = [\n",
    "    \"LotFrontage\",\n",
    "    \"MasVnrArea\",\n",
    "    \"BsmtFinSF1\",\n",
    "    \"BsmtFinSF2\",\n",
    "    \"BsmtUnfSF\",\n",
    "    \"TotalBsmtSF\",\n",
    "    \"BsmtFullBath\",\n",
    "    \"BsmtHalfBath\",\n",
    "    \"GarageCars\",\n",
    "    \"GarageArea\",\n",
    "]\n",
    "\n",
    "for col in list_col:\n",
    "    train[col] = train[col].fillna(0).astype(int)\n",
    "    test[col] = test[col].fillna(0).astype(int)"
   ]
  },
  {
   "cell_type": "markdown",
   "metadata": {},
   "source": [
    "#### Qualitatif\n"
   ]
  },
  {
   "cell_type": "code",
   "execution_count": 16,
   "metadata": {},
   "outputs": [],
   "source": [
    "train[\"MasVnrType\"] = train[\"MasVnrType\"].replace(\"nan\", \"No veener\")\n",
    "test[\"MasVnrType\"] = test[\"MasVnrType\"].replace(\"nan\", \"No veener\")\n",
    "\n",
    "for col in test.columns:\n",
    "    if test[col].dtype == \"object\":\n",
    "        if col.startswith(\"Bsmt\"):\n",
    "            train[col] = train[col].replace(\"nan\", \"No basement\")\n",
    "            test[col] = test[col].replace(\"nan\", \"No basement\")\n",
    "\n",
    "        elif col.startswith(\"Garage\"):\n",
    "            train[col] = train[col].replace(\"nan\", \"No garage\")\n",
    "            test[col] = test[col].replace(\"nan\", \"No garage\")\n",
    "\n",
    "train[\"Electrical\"] = train[\"Electrical\"].replace(\"nan\", \"No electricity\")\n",
    "test[\"Electrical\"] = test[\"Electrical\"].replace(\"nan\", \"No electricity\")\n",
    "\n",
    "train[\"FireplaceQu\"] = train[\"FireplaceQu\"].replace(\"nan\", \"No fireplace\")\n",
    "test[\"FireplaceQu\"] = test[\"FireplaceQu\"].replace(\"nan\", \"No fireplace\")\n",
    "\n",
    "train[\"Fence\"] = train[\"Fence\"].replace(\"nan\", \"No fence\")\n",
    "test[\"Fence\"] = test[\"Fence\"].replace(\"nan\", \"No fence\")\n",
    "\n",
    "train[\"PoolQC\"] = train[\"PoolQC\"].replace(\"nan\", \"No pool\")\n",
    "test[\"PoolQC\"] = test[\"PoolQC\"].replace(\"nan\", \"No pool\")\n",
    "\n",
    "train[\"MiscFeature\"] = train[\"MiscFeature\"].replace(\"nan\", \"No specificity\")\n",
    "test[\"MiscFeature\"] = test[\"MiscFeature\"].replace(\"nan\", \"No specificity\")\n",
    "\n",
    "train[\"MSZoning\"] = train[\"MSZoning\"].replace(\"nan\", \"C (all)\")\n",
    "test[\"MSZoning\"] = test[\"MSZoning\"].replace(\"nan\", \"C (all)\")\n",
    "\n",
    "train[\"SaleType\"] = train[\"SaleType\"].replace(\"nan\", \"Other\")\n",
    "test[\"SaleType\"] = test[\"SaleType\"].replace(\"nan\", \"Other\")\n",
    "\n",
    "notspec = \"Not specified\"\n",
    "\n",
    "for col in [\"Exterior1st\", \"Exterior2nd\", \"KitchenQual\", \"Functional\"]:\n",
    "    train[col] = train[col].replace(\"nan\", notspec)\n",
    "    test[col] = test[col].replace(\"nan\", notspec)"
   ]
  },
  {
   "cell_type": "markdown",
   "metadata": {},
   "source": [
    "#### Cas spécifique pour la variable MSSubClass : configuration pour la vente\n",
    "\n",
    "La modalité \"1-1/2 STORY PUD - ALL AGES\" est présente une seule fois dans le jeu de test et non présente dans train. Donc je choisis de l'imputer à \"1-STORY PUD (Planned Unit Development) - 1946 & NEWER\". Vu que j'ai l'année de construction, je pourrais regrouper avec les années différentes. Mais finalement, je regarderai lors de la selection de variable si HouseStyle qui ressemble beaucoup est pas mieux.\n"
   ]
  },
  {
   "cell_type": "code",
   "execution_count": 17,
   "metadata": {},
   "outputs": [],
   "source": [
    "train[\"MSSubClass\"] = train[\"MSSubClass\"].replace(\n",
    "    \"1-1/2 STORY PUD - ALL AGES\",\n",
    "    \"1-STORY PUD (Planned Unit Development) - 1946 & NEWER\",\n",
    ")\n",
    "test[\"MSSubClass\"] = test[\"MSSubClass\"].replace(\n",
    "    \"1-1/2 STORY PUD - ALL AGES\",\n",
    "    \"1-STORY PUD (Planned Unit Development) - 1946 & NEWER\",\n",
    ")"
   ]
  },
  {
   "cell_type": "markdown",
   "metadata": {},
   "source": [
    "## Traitement spécifique\n",
    "\n",
    "### Combinaison de variables\n",
    "\n",
    "#### Street / Alley / PavedDrive : rue / ruelle d'accès au bien / meme chose ou presque (à voir)\n",
    "\n",
    "- création d'une \"conbinaison des deux\"\n",
    "- si Paved pour street ou Alley -> Paved\n",
    "- si Gravel pour street ou Alley -> Gravel\n",
    "- si NaN alors \"Direct acces\"\n"
   ]
  },
  {
   "cell_type": "code",
   "execution_count": 18,
   "metadata": {},
   "outputs": [
    {
     "data": {
      "text/plain": [
       "Street\n",
       "Paved     1454\n",
       "Gravel       6\n",
       "Name: count, dtype: int64"
      ]
     },
     "execution_count": 18,
     "metadata": {},
     "output_type": "execute_result"
    }
   ],
   "source": [
    "train[\"Street\"].value_counts(dropna=False)"
   ]
  },
  {
   "cell_type": "code",
   "execution_count": 19,
   "metadata": {},
   "outputs": [
    {
     "data": {
      "text/plain": [
       "Alley\n",
       "nan       1369\n",
       "Gravel      50\n",
       "Paved       41\n",
       "Name: count, dtype: int64"
      ]
     },
     "execution_count": 19,
     "metadata": {},
     "output_type": "execute_result"
    }
   ],
   "source": [
    "train[\"Alley\"].value_counts(dropna=False)"
   ]
  },
  {
   "cell_type": "code",
   "execution_count": 20,
   "metadata": {},
   "outputs": [
    {
     "data": {
      "text/plain": [
       "PavedDrive\n",
       "Paved               1340\n",
       "Dirt/Gravel           90\n",
       "Partial Pavement      30\n",
       "Name: count, dtype: int64"
      ]
     },
     "execution_count": 20,
     "metadata": {},
     "output_type": "execute_result"
    }
   ],
   "source": [
    "train[\"PavedDrive\"].value_counts(dropna=False)"
   ]
  },
  {
   "cell_type": "code",
   "execution_count": 21,
   "metadata": {},
   "outputs": [
    {
     "data": {
      "text/html": [
       "<div>\n",
       "<style scoped>\n",
       "    .dataframe tbody tr th:only-of-type {\n",
       "        vertical-align: middle;\n",
       "    }\n",
       "\n",
       "    .dataframe tbody tr th {\n",
       "        vertical-align: top;\n",
       "    }\n",
       "\n",
       "    .dataframe thead th {\n",
       "        text-align: right;\n",
       "    }\n",
       "</style>\n",
       "<table border=\"1\" class=\"dataframe\">\n",
       "  <thead>\n",
       "    <tr style=\"text-align: right;\">\n",
       "      <th></th>\n",
       "      <th></th>\n",
       "      <th></th>\n",
       "      <th>Id</th>\n",
       "    </tr>\n",
       "    <tr>\n",
       "      <th>Street</th>\n",
       "      <th>Alley</th>\n",
       "      <th>PavedDrive</th>\n",
       "      <th></th>\n",
       "    </tr>\n",
       "  </thead>\n",
       "  <tbody>\n",
       "    <tr>\n",
       "      <th rowspan=\"2\" valign=\"top\">Gravel</th>\n",
       "      <th rowspan=\"2\" valign=\"top\">nan</th>\n",
       "      <th>Dirt/Gravel</th>\n",
       "      <td>1</td>\n",
       "    </tr>\n",
       "    <tr>\n",
       "      <th>Paved</th>\n",
       "      <td>5</td>\n",
       "    </tr>\n",
       "    <tr>\n",
       "      <th rowspan=\"8\" valign=\"top\">Paved</th>\n",
       "      <th rowspan=\"3\" valign=\"top\">Gravel</th>\n",
       "      <th>Dirt/Gravel</th>\n",
       "      <td>14</td>\n",
       "    </tr>\n",
       "    <tr>\n",
       "      <th>Partial Pavement</th>\n",
       "      <td>7</td>\n",
       "    </tr>\n",
       "    <tr>\n",
       "      <th>Paved</th>\n",
       "      <td>29</td>\n",
       "    </tr>\n",
       "    <tr>\n",
       "      <th rowspan=\"2\" valign=\"top\">Paved</th>\n",
       "      <th>Dirt/Gravel</th>\n",
       "      <td>8</td>\n",
       "    </tr>\n",
       "    <tr>\n",
       "      <th>Paved</th>\n",
       "      <td>33</td>\n",
       "    </tr>\n",
       "    <tr>\n",
       "      <th rowspan=\"3\" valign=\"top\">nan</th>\n",
       "      <th>Dirt/Gravel</th>\n",
       "      <td>67</td>\n",
       "    </tr>\n",
       "    <tr>\n",
       "      <th>Partial Pavement</th>\n",
       "      <td>23</td>\n",
       "    </tr>\n",
       "    <tr>\n",
       "      <th>Paved</th>\n",
       "      <td>1273</td>\n",
       "    </tr>\n",
       "  </tbody>\n",
       "</table>\n",
       "</div>"
      ],
      "text/plain": [
       "                                  Id\n",
       "Street Alley  PavedDrive            \n",
       "Gravel nan    Dirt/Gravel          1\n",
       "              Paved                5\n",
       "Paved  Gravel Dirt/Gravel         14\n",
       "              Partial Pavement     7\n",
       "              Paved               29\n",
       "       Paved  Dirt/Gravel          8\n",
       "              Paved               33\n",
       "       nan    Dirt/Gravel         67\n",
       "              Partial Pavement    23\n",
       "              Paved             1273"
      ]
     },
     "execution_count": 21,
     "metadata": {},
     "output_type": "execute_result"
    }
   ],
   "source": [
    "train[[\"Id\", \"Street\", \"Alley\", \"PavedDrive\"]].groupby(\n",
    "    [\"Street\", \"Alley\", \"PavedDrive\"], observed=False\n",
    ").count()"
   ]
  },
  {
   "cell_type": "markdown",
   "metadata": {},
   "source": [
    "Après réflexion, je pense garder uniquement PavedDrive qui est moins déséquilibrée que Street et Alley. Des tests seront tout de même effectués lors de l'étape de modélisation. Je reste vigilant et pense que Street et Alley vont apporter du bruit plutôt qu'autre chose.\n",
    "\n",
    "### Traitement des dates et transformations en durée\n",
    "\n",
    "- YearRemodAdd, YearBuilt, YrSold, MoSold, GarageYrBlt\n",
    "- l'idée c'est d'obtenir la différence entre la date de vente et la date de construction, etc...\n",
    "- pour l'année de construction de l'extension, on va créer plusieurs variables et regarder celle qui est la meilleure.\n"
   ]
  },
  {
   "cell_type": "markdown",
   "metadata": {},
   "source": [
    "#### Différence de date entre l'année de construction et l'année de vente\n"
   ]
  },
  {
   "cell_type": "code",
   "execution_count": 22,
   "metadata": {},
   "outputs": [],
   "source": [
    "# Étape 1 : Création de la date de vente à partir de YearSold et MoSold\n",
    "train[\"SaleDate\"] = pd.to_datetime(\n",
    "    train[\"YrSold\"].astype(str) + \"-\" + train[\"MoSold\"].astype(str) + \"-01\"\n",
    ")\n",
    "test[\"SaleDate\"] = pd.to_datetime(\n",
    "    test[\"YrSold\"].astype(str) + \"-\" + test[\"MoSold\"].astype(str) + \"-01\"\n",
    ")"
   ]
  },
  {
   "cell_type": "code",
   "execution_count": 23,
   "metadata": {},
   "outputs": [],
   "source": [
    "# Étape 2 : Calculer la différence avec YearBuilt, l'année de construction\n",
    "# Conversion pour avoir un format de date\n",
    "train[\"YearBuilt\"] = pd.to_datetime(train[\"YearBuilt\"].astype(str) + \"-01-01\")\n",
    "test[\"YearBuilt\"] = pd.to_datetime(test[\"YearBuilt\"].astype(str) + \"-01-01\")"
   ]
  },
  {
   "cell_type": "code",
   "execution_count": 24,
   "metadata": {},
   "outputs": [],
   "source": [
    "# Étape 3 : Calculer la différence en années\n",
    "train[\"DiffYearsSaleVSBuild\"] = (\n",
    "    train[\"SaleDate\"] - train[\"YearBuilt\"]\n",
    ").dt.days / 365  # Différence en années\n",
    "test[\"DiffYearsSaleVSBuild\"] = (\n",
    "    test[\"SaleDate\"] - test[\"YearBuilt\"]\n",
    ").dt.days / 365  # Différence en années"
   ]
  },
  {
   "cell_type": "markdown",
   "metadata": {},
   "source": [
    "#### Même chose entre l'année d'un agrandissement et l'année de construction\n"
   ]
  },
  {
   "cell_type": "code",
   "execution_count": 25,
   "metadata": {},
   "outputs": [],
   "source": [
    "# Différence uniquement avec l'année de construction car YearRemodAdd = YearBuilt quand il n'y a pas d'agrandissement\n",
    "train[\"YearRemodAdd\"] = pd.to_datetime(train[\"YearRemodAdd\"].astype(str) + \"-01-01\")\n",
    "test[\"YearRemodAdd\"] = pd.to_datetime(test[\"YearRemodAdd\"].astype(str) + \"-01-01\")\n",
    "\n",
    "train[\"DiffYearsRemodAddVSBuild\"] = (\n",
    "    train[\"YearRemodAdd\"] - train[\"YearBuilt\"]\n",
    ").dt.days / 365\n",
    "test[\"DiffYearsRemodAddVSBuild\"] = (\n",
    "    test[\"YearRemodAdd\"] - test[\"YearBuilt\"]\n",
    ").dt.days / 365"
   ]
  },
  {
   "cell_type": "markdown",
   "metadata": {},
   "source": [
    "#### Même chose entre l'année de construction et l'année de construction du garage\n"
   ]
  },
  {
   "cell_type": "code",
   "execution_count": 26,
   "metadata": {},
   "outputs": [],
   "source": [
    "train[\"GarageYrBlt\"] = train[\"GarageYrBlt\"].fillna(9999).astype(int)\n",
    "test[\"GarageYrBlt\"] = test[\"GarageYrBlt\"].fillna(9999).astype(int)\n",
    "\n",
    "train[\"GarageYrBlt\"] = pd.to_datetime(\n",
    "    train[\"GarageYrBlt\"].astype(str) + \"-01-01\", format=\"%Y-%m-%d\", errors=\"coerce\"\n",
    ")\n",
    "test[\"GarageYrBlt\"] = pd.to_datetime(\n",
    "    test[\"GarageYrBlt\"].astype(str) + \"-01-01\", format=\"%Y-%m-%d\", errors=\"coerce\"\n",
    ")"
   ]
  },
  {
   "cell_type": "code",
   "execution_count": 27,
   "metadata": {},
   "outputs": [],
   "source": [
    "train[\"DiffYearsGarageVSBuild\"] = (\n",
    "    train[\"GarageYrBlt\"] - train[\"YearBuilt\"]\n",
    ").dt.days / 365\n",
    "test[\"DiffYearsGarageVSBuild\"] = (test[\"GarageYrBlt\"] - test[\"YearBuilt\"]).dt.days / 365"
   ]
  },
  {
   "cell_type": "code",
   "execution_count": 28,
   "metadata": {},
   "outputs": [],
   "source": [
    "# Si pas de garage alors on impute a 0\n",
    "# c'est pour decorreler le fait de ne pas avoir de garage avec d'autres variables qui portent déjà cette information\n",
    "train[\"DiffYearsGarageVSBuild\"] = train[\"DiffYearsGarageVSBuild\"].fillna(0)\n",
    "test[\"DiffYearsGarageVSBuild\"] = test[\"DiffYearsGarageVSBuild\"].fillna(0)"
   ]
  },
  {
   "cell_type": "markdown",
   "metadata": {},
   "source": [
    "### Regroupement de modalités et déséquilibre\n",
    "\n",
    "Une colonne sera créée à chaque fois, de manière à ne pas perdre d'information. La variable catégorielle qui donnera le plus de performance sera choisie lors de la modélisation.\n",
    "\n",
    "#### LotShape : forme générale de la propiété\n",
    "\n",
    "regroupement de \"Moderately Irregular\" et \"Irregular\" en \"Irregular\"\n"
   ]
  },
  {
   "cell_type": "code",
   "execution_count": 29,
   "metadata": {},
   "outputs": [],
   "source": [
    "train[\"LotShape_agg\"] = train[\"LotShape\"].replace(\"Moderately Irregular\", \"Irregular\")\n",
    "test[\"LotShape_agg\"] = test[\"LotShape\"].replace(\"Moderately Irregular\", \"Irregular\")"
   ]
  },
  {
   "cell_type": "markdown",
   "metadata": {},
   "source": [
    "#### LotConfig : configuration du terrain / voisinage\n",
    "\n",
    "\"Frontage on 2 sides of property\" et \"Frontage on 3 sides of property\" regroupé en \"Frontage on 2 / 3 sides of property\"\n"
   ]
  },
  {
   "cell_type": "code",
   "execution_count": 30,
   "metadata": {},
   "outputs": [],
   "source": [
    "frontagesides = \"Frontage on 2 / 3 sides of property\"\n",
    "\n",
    "for df in [train, test]:\n",
    "    df[\"LotConfig_agg\"] = train[\"LotConfig\"].replace(\n",
    "        {\n",
    "            \"Frontage on 2 sides of property\": frontagesides,\n",
    "            \"Frontage on 3 sides of property\": frontagesides,\n",
    "        }\n",
    "    )"
   ]
  },
  {
   "cell_type": "markdown",
   "metadata": {},
   "source": [
    "#### Neighborhood : quartier de la ville d'Ames\n",
    "\n",
    "Regroupement mix entre situations géographiques d'Ames et environnement :\n",
    "\n",
    "- North Ames (North Ames, Northridge, Northridge Heights, Northwest Ames, Gilbert (ville voisine au nord), Northpark Villa)\n",
    "- South and west Ames (South & West of Iowa State University, Sawyer, Sawyer West, Somerset)\n",
    "- Est Ames (Bloomington Heights, Clear Creek, Crawford, Edwards, Iowa DOT and Rail Road)\n",
    "- Center and university (Old Town, College Creek)\n",
    "- South Est Ames (Meadow Village, Mitchell)\n",
    "- High-End Residential Areas (Stone Brook, Timberland, Veenker)\n",
    "- Green and Natural Areas (Brookside, Bluestem, Briardale)\n"
   ]
  },
  {
   "cell_type": "code",
   "execution_count": 31,
   "metadata": {},
   "outputs": [],
   "source": [
    "col = \"Neighborhood\"\n",
    "\n",
    "choicelist = [\n",
    "    \"North Ames\",\n",
    "    \"South and west Ames\",\n",
    "    \"Est Ames\",\n",
    "    \"Center and university\",\n",
    "    \"South Est Ames\",\n",
    "    \"High-End Residential Areas\",\n",
    "    \"Green and Natural Areas\",\n",
    "]\n",
    "\n",
    "\n",
    "for df in [train, test]:\n",
    "    condlist = [\n",
    "        df[col].isin(\n",
    "            [\n",
    "                \"North Ames\",\n",
    "                \"Northridge\",\n",
    "                \"Northridge Heights\",\n",
    "                \"Northwest Ames\",\n",
    "                \"Gilbert\",\n",
    "                \"Northpark Villa\",\n",
    "            ]\n",
    "        ),\n",
    "        df[col].isin(\n",
    "            [\n",
    "                \"South & West of Iowa State University\",\n",
    "                \"Sawyer\",\n",
    "                \"Sawyer West\",\n",
    "                \"Somerset\",\n",
    "            ]\n",
    "        ),\n",
    "        df[col].isin(\n",
    "            [\n",
    "                \"Bloomington Heights\",\n",
    "                \"Clear Creek\",\n",
    "                \"Crawford\",\n",
    "                \"Edwards\",\n",
    "                \"Iowa DOT and Rail Road\",\n",
    "            ]\n",
    "        ),\n",
    "        df[col].isin([\"Old Town\", \"College Creek\"]),\n",
    "        df[col].isin([\"Meadow Village\", \"Mitchell\"]),\n",
    "        df[col].isin([\"Stone Brook\", \"Timberland\", \"Veenker\"]),\n",
    "        df[col].isin([\"Brookside\", \"Bluestem\", \"Briardale\"]),\n",
    "    ]\n",
    "\n",
    "    col_name = col + \"_agg\"\n",
    "\n",
    "    df[col_name] = np.select(condlist, choicelist, default=notspec)"
   ]
  },
  {
   "cell_type": "markdown",
   "metadata": {},
   "source": [
    "#### Condition1 : Proximité et situation / élément notables proche du logement\n",
    "\n",
    "Regroupement proposé :\n",
    "\n",
    "- Proximité à une voie ferrée (moins de 60 mètres)\n",
    "- Adjacence à une voie ferrée\n",
    "- Proximité à une rue principale\n",
    "- Proximité à des éléments positifs\n",
    "- Condition normale\n"
   ]
  },
  {
   "cell_type": "code",
   "execution_count": 32,
   "metadata": {},
   "outputs": [],
   "source": [
    "col = \"Condition1\"\n",
    "\n",
    "choicelist = [\n",
    "    \"Adjacent to a major street\",\n",
    "    \"Adjacent to a Railroad\",\n",
    "    \"Within 200' of Railroad\",\n",
    "    \"Near positive off-site\",\n",
    "    \"Normal\",\n",
    "]\n",
    "\n",
    "\n",
    "for df in [train, test]:\n",
    "    condlist = [\n",
    "        df[col].isin([\"Adjacent to feeder street\", \"Adjacent to arterial street\"]),\n",
    "        df[col].isin(\n",
    "            [\"Adjacent to North-South Railroad\", \"Adjacent to East-West Railroad\"]\n",
    "        ),\n",
    "        df[col].isin(\n",
    "            [\"Within 200' of East-West Railroad\", \"Within 200' of North-South Railroad\"]\n",
    "        ),\n",
    "        df[col].isin(\n",
    "            [\n",
    "                \"Near positive off-site feature--park, greenbelt, etc.\",\n",
    "                \"Adjacent to postive off-site feature\",\n",
    "            ]\n",
    "        ),\n",
    "        df[col] == \"Normal\",\n",
    "    ]\n",
    "\n",
    "    col_name = col + \"_agg\"\n",
    "\n",
    "    df[col_name] = np.select(condlist, choicelist, default=notspec)"
   ]
  },
  {
   "cell_type": "markdown",
   "metadata": {},
   "source": [
    "#### OverallQual / OverallCond : Note des materiaux et finitions / conditions du bien\n",
    "\n",
    "- regroupement de \"Very Good\", \"Excellent\" et \"Very Excellent\"\n",
    "- regroupement de \"Poor\", \"Very Poor\" et \"Fair\"\n",
    "- peut être qu'il faudra choisir entre les deux notations qui risques d'être corrélées\n"
   ]
  },
  {
   "cell_type": "code",
   "execution_count": 33,
   "metadata": {},
   "outputs": [],
   "source": [
    "cols = [\"OverallCond\", \"OverallQual\"]\n",
    "\n",
    "choicelist = [\"Excellent\", \"Poor\"]\n",
    "\n",
    "for df in [train, test]:\n",
    "    for col in cols:\n",
    "        condlist = [\n",
    "            df[col].isin([\"Excellent\", \"Very Excellent\", \"Very Good\"]),\n",
    "            df[col].isin([\"Poor\", \"Very Poor\", \"Fair\"]),\n",
    "        ]\n",
    "\n",
    "        col_name = col + \"_agg\"\n",
    "\n",
    "        df[col_name] = np.select(condlist, choicelist, default=df[col])"
   ]
  },
  {
   "cell_type": "markdown",
   "metadata": {},
   "source": [
    "#### RoofStyle : type de toiture\n",
    "\n",
    "J'aurais pu tester WOE Binning ou éventuellement un regroupement avec les toitures rares peut-être, mais je vais attendre avec les valeurs de Shapley lors de la modélisation.\n",
    "\n",
    "#### Exterior1st/2nd : type d'exterieur\n",
    "\n",
    "- les regroupements proposés :\n",
    "- Wood-Based Siding (Revêtements en bois) : Hard Board, Wood Siding (Wd Sdng), Plywood, Wood Shingles\n",
    "- Brick or Stone Façade (Matériaux de façade en brique ou en pierre) : Brick Face, Brick Common, Stone\n",
    "- Other Exterior Materials (Autres revêtements) : Stucco, Asbestos Shingles, Asphalt Shingles, Imitation Stucco, Cinder Block\n"
   ]
  },
  {
   "cell_type": "code",
   "execution_count": 34,
   "metadata": {},
   "outputs": [],
   "source": [
    "cols = [\"Exterior1st\", \"Exterior2nd\"]\n",
    "\n",
    "choicelist = [\"Wood-Based Siding\", \"Brick or Stone Façade\", \"Other Exterior Materials\"]\n",
    "\n",
    "for df in [train, test]:\n",
    "    for col in cols:\n",
    "        condlist = [\n",
    "            df[col].isin([\"Hard Board\", \"Wood Siding\", \"Plywood\", \"Wood Shingles\"]),\n",
    "            df[col].isin([\"Brick Face\", \"Brick Common\", \"Stone\"]),\n",
    "            df[col].isin(\n",
    "                [\n",
    "                    \"Stucco\",\n",
    "                    \"Asbestos Shingles\",\n",
    "                    \"Asphalt Shingles\",\n",
    "                    \"Imitation Stucco\",\n",
    "                    \"Cinder Block\",\n",
    "                ]\n",
    "            ),\n",
    "        ]\n",
    "\n",
    "        col_name = col + \"_agg\"\n",
    "\n",
    "        df[col_name] = np.select(condlist, choicelist, default=df[col])"
   ]
  },
  {
   "cell_type": "markdown",
   "metadata": {},
   "source": [
    "#### HeatingQC : qualité de chauffage\n",
    "\n",
    "- regrouper \"fair\" et \"poor\"\n"
   ]
  },
  {
   "cell_type": "code",
   "execution_count": 35,
   "metadata": {},
   "outputs": [],
   "source": [
    "train[\"HeatingQC_agg\"] = train[\"HeatingQC\"].replace(\"Poor\", \"Fair\")\n",
    "test[\"HeatingQC_agg\"] = test[\"HeatingQC\"].replace(\"Poor\", \"Fair\")"
   ]
  },
  {
   "cell_type": "markdown",
   "metadata": {},
   "source": [
    "#### BsmtFullBath/BsmtHalfBath : salle de bain au sous-sol\n",
    "\n",
    "Cette fois-ci, j'ai envie de tester avec WOE Binning, pour voir comment l'algorithme se comporte et ce qu'il propose.\n",
    "\n",
    "L'algorithme WOE Binning va essayer de minimiser la variance intra-classe (au sein d'un regroupement de modalités) et maximiser la variance inter-classe (entre les différents regroupements de modalités). La variance ici, c'est la cible (donc le prix des maisons). Ce découpage pourrait être utile surtout pour une régression type GLM par exemple. On laissera la possibilité avec l'arbre booster de voir si le regroupement est plus intéressant que la variable initiale ou pas. Plus d'info [ici](https://gnpalencia.org/optbinning/tutorials/tutorial_continuous.html).\n",
    "\n",
    "##### Etape 1 :\n",
    "\n",
    "On choisit x, la variable à discrétiser, et y, la cible continue.\n"
   ]
  },
  {
   "cell_type": "code",
   "execution_count": 36,
   "metadata": {},
   "outputs": [],
   "source": [
    "x = train[\"BsmtFullBath\"].values\n",
    "y = train[\"SalePrice\"].values"
   ]
  },
  {
   "cell_type": "markdown",
   "metadata": {},
   "source": [
    "##### Etape 2 :\n",
    "\n",
    "Création de l'objet pour le découpage de notre variable\n"
   ]
  },
  {
   "cell_type": "code",
   "execution_count": 37,
   "metadata": {},
   "outputs": [],
   "source": [
    "optbBsmtFullBath = ContinuousOptimalBinning(name=\"BsmtFullBath\", dtype=\"numerical\")"
   ]
  },
  {
   "cell_type": "markdown",
   "metadata": {},
   "source": [
    "Etape 3 :\n",
    "\n",
    "Entrainement de l'algorithme sur le jeu d'entraînement \"train\" et application future sur le jeu \"test\"\n"
   ]
  },
  {
   "cell_type": "code",
   "execution_count": 38,
   "metadata": {},
   "outputs": [
    {
     "data": {
      "text/html": [
       "<style>#sk-container-id-1 {\n",
       "  /* Definition of color scheme common for light and dark mode */\n",
       "  --sklearn-color-text: black;\n",
       "  --sklearn-color-line: gray;\n",
       "  /* Definition of color scheme for unfitted estimators */\n",
       "  --sklearn-color-unfitted-level-0: #fff5e6;\n",
       "  --sklearn-color-unfitted-level-1: #f6e4d2;\n",
       "  --sklearn-color-unfitted-level-2: #ffe0b3;\n",
       "  --sklearn-color-unfitted-level-3: chocolate;\n",
       "  /* Definition of color scheme for fitted estimators */\n",
       "  --sklearn-color-fitted-level-0: #f0f8ff;\n",
       "  --sklearn-color-fitted-level-1: #d4ebff;\n",
       "  --sklearn-color-fitted-level-2: #b3dbfd;\n",
       "  --sklearn-color-fitted-level-3: cornflowerblue;\n",
       "\n",
       "  /* Specific color for light theme */\n",
       "  --sklearn-color-text-on-default-background: var(--sg-text-color, var(--theme-code-foreground, var(--jp-content-font-color1, black)));\n",
       "  --sklearn-color-background: var(--sg-background-color, var(--theme-background, var(--jp-layout-color0, white)));\n",
       "  --sklearn-color-border-box: var(--sg-text-color, var(--theme-code-foreground, var(--jp-content-font-color1, black)));\n",
       "  --sklearn-color-icon: #696969;\n",
       "\n",
       "  @media (prefers-color-scheme: dark) {\n",
       "    /* Redefinition of color scheme for dark theme */\n",
       "    --sklearn-color-text-on-default-background: var(--sg-text-color, var(--theme-code-foreground, var(--jp-content-font-color1, white)));\n",
       "    --sklearn-color-background: var(--sg-background-color, var(--theme-background, var(--jp-layout-color0, #111)));\n",
       "    --sklearn-color-border-box: var(--sg-text-color, var(--theme-code-foreground, var(--jp-content-font-color1, white)));\n",
       "    --sklearn-color-icon: #878787;\n",
       "  }\n",
       "}\n",
       "\n",
       "#sk-container-id-1 {\n",
       "  color: var(--sklearn-color-text);\n",
       "}\n",
       "\n",
       "#sk-container-id-1 pre {\n",
       "  padding: 0;\n",
       "}\n",
       "\n",
       "#sk-container-id-1 input.sk-hidden--visually {\n",
       "  border: 0;\n",
       "  clip: rect(1px 1px 1px 1px);\n",
       "  clip: rect(1px, 1px, 1px, 1px);\n",
       "  height: 1px;\n",
       "  margin: -1px;\n",
       "  overflow: hidden;\n",
       "  padding: 0;\n",
       "  position: absolute;\n",
       "  width: 1px;\n",
       "}\n",
       "\n",
       "#sk-container-id-1 div.sk-dashed-wrapped {\n",
       "  border: 1px dashed var(--sklearn-color-line);\n",
       "  margin: 0 0.4em 0.5em 0.4em;\n",
       "  box-sizing: border-box;\n",
       "  padding-bottom: 0.4em;\n",
       "  background-color: var(--sklearn-color-background);\n",
       "}\n",
       "\n",
       "#sk-container-id-1 div.sk-container {\n",
       "  /* jupyter's `normalize.less` sets `[hidden] { display: none; }`\n",
       "     but bootstrap.min.css set `[hidden] { display: none !important; }`\n",
       "     so we also need the `!important` here to be able to override the\n",
       "     default hidden behavior on the sphinx rendered scikit-learn.org.\n",
       "     See: https://github.com/scikit-learn/scikit-learn/issues/21755 */\n",
       "  display: inline-block !important;\n",
       "  position: relative;\n",
       "}\n",
       "\n",
       "#sk-container-id-1 div.sk-text-repr-fallback {\n",
       "  display: none;\n",
       "}\n",
       "\n",
       "div.sk-parallel-item,\n",
       "div.sk-serial,\n",
       "div.sk-item {\n",
       "  /* draw centered vertical line to link estimators */\n",
       "  background-image: linear-gradient(var(--sklearn-color-text-on-default-background), var(--sklearn-color-text-on-default-background));\n",
       "  background-size: 2px 100%;\n",
       "  background-repeat: no-repeat;\n",
       "  background-position: center center;\n",
       "}\n",
       "\n",
       "/* Parallel-specific style estimator block */\n",
       "\n",
       "#sk-container-id-1 div.sk-parallel-item::after {\n",
       "  content: \"\";\n",
       "  width: 100%;\n",
       "  border-bottom: 2px solid var(--sklearn-color-text-on-default-background);\n",
       "  flex-grow: 1;\n",
       "}\n",
       "\n",
       "#sk-container-id-1 div.sk-parallel {\n",
       "  display: flex;\n",
       "  align-items: stretch;\n",
       "  justify-content: center;\n",
       "  background-color: var(--sklearn-color-background);\n",
       "  position: relative;\n",
       "}\n",
       "\n",
       "#sk-container-id-1 div.sk-parallel-item {\n",
       "  display: flex;\n",
       "  flex-direction: column;\n",
       "}\n",
       "\n",
       "#sk-container-id-1 div.sk-parallel-item:first-child::after {\n",
       "  align-self: flex-end;\n",
       "  width: 50%;\n",
       "}\n",
       "\n",
       "#sk-container-id-1 div.sk-parallel-item:last-child::after {\n",
       "  align-self: flex-start;\n",
       "  width: 50%;\n",
       "}\n",
       "\n",
       "#sk-container-id-1 div.sk-parallel-item:only-child::after {\n",
       "  width: 0;\n",
       "}\n",
       "\n",
       "/* Serial-specific style estimator block */\n",
       "\n",
       "#sk-container-id-1 div.sk-serial {\n",
       "  display: flex;\n",
       "  flex-direction: column;\n",
       "  align-items: center;\n",
       "  background-color: var(--sklearn-color-background);\n",
       "  padding-right: 1em;\n",
       "  padding-left: 1em;\n",
       "}\n",
       "\n",
       "\n",
       "/* Toggleable style: style used for estimator/Pipeline/ColumnTransformer box that is\n",
       "clickable and can be expanded/collapsed.\n",
       "- Pipeline and ColumnTransformer use this feature and define the default style\n",
       "- Estimators will overwrite some part of the style using the `sk-estimator` class\n",
       "*/\n",
       "\n",
       "/* Pipeline and ColumnTransformer style (default) */\n",
       "\n",
       "#sk-container-id-1 div.sk-toggleable {\n",
       "  /* Default theme specific background. It is overwritten whether we have a\n",
       "  specific estimator or a Pipeline/ColumnTransformer */\n",
       "  background-color: var(--sklearn-color-background);\n",
       "}\n",
       "\n",
       "/* Toggleable label */\n",
       "#sk-container-id-1 label.sk-toggleable__label {\n",
       "  cursor: pointer;\n",
       "  display: block;\n",
       "  width: 100%;\n",
       "  margin-bottom: 0;\n",
       "  padding: 0.5em;\n",
       "  box-sizing: border-box;\n",
       "  text-align: center;\n",
       "}\n",
       "\n",
       "#sk-container-id-1 label.sk-toggleable__label-arrow:before {\n",
       "  /* Arrow on the left of the label */\n",
       "  content: \"▸\";\n",
       "  float: left;\n",
       "  margin-right: 0.25em;\n",
       "  color: var(--sklearn-color-icon);\n",
       "}\n",
       "\n",
       "#sk-container-id-1 label.sk-toggleable__label-arrow:hover:before {\n",
       "  color: var(--sklearn-color-text);\n",
       "}\n",
       "\n",
       "/* Toggleable content - dropdown */\n",
       "\n",
       "#sk-container-id-1 div.sk-toggleable__content {\n",
       "  max-height: 0;\n",
       "  max-width: 0;\n",
       "  overflow: hidden;\n",
       "  text-align: left;\n",
       "  /* unfitted */\n",
       "  background-color: var(--sklearn-color-unfitted-level-0);\n",
       "}\n",
       "\n",
       "#sk-container-id-1 div.sk-toggleable__content.fitted {\n",
       "  /* fitted */\n",
       "  background-color: var(--sklearn-color-fitted-level-0);\n",
       "}\n",
       "\n",
       "#sk-container-id-1 div.sk-toggleable__content pre {\n",
       "  margin: 0.2em;\n",
       "  border-radius: 0.25em;\n",
       "  color: var(--sklearn-color-text);\n",
       "  /* unfitted */\n",
       "  background-color: var(--sklearn-color-unfitted-level-0);\n",
       "}\n",
       "\n",
       "#sk-container-id-1 div.sk-toggleable__content.fitted pre {\n",
       "  /* unfitted */\n",
       "  background-color: var(--sklearn-color-fitted-level-0);\n",
       "}\n",
       "\n",
       "#sk-container-id-1 input.sk-toggleable__control:checked~div.sk-toggleable__content {\n",
       "  /* Expand drop-down */\n",
       "  max-height: 200px;\n",
       "  max-width: 100%;\n",
       "  overflow: auto;\n",
       "}\n",
       "\n",
       "#sk-container-id-1 input.sk-toggleable__control:checked~label.sk-toggleable__label-arrow:before {\n",
       "  content: \"▾\";\n",
       "}\n",
       "\n",
       "/* Pipeline/ColumnTransformer-specific style */\n",
       "\n",
       "#sk-container-id-1 div.sk-label input.sk-toggleable__control:checked~label.sk-toggleable__label {\n",
       "  color: var(--sklearn-color-text);\n",
       "  background-color: var(--sklearn-color-unfitted-level-2);\n",
       "}\n",
       "\n",
       "#sk-container-id-1 div.sk-label.fitted input.sk-toggleable__control:checked~label.sk-toggleable__label {\n",
       "  background-color: var(--sklearn-color-fitted-level-2);\n",
       "}\n",
       "\n",
       "/* Estimator-specific style */\n",
       "\n",
       "/* Colorize estimator box */\n",
       "#sk-container-id-1 div.sk-estimator input.sk-toggleable__control:checked~label.sk-toggleable__label {\n",
       "  /* unfitted */\n",
       "  background-color: var(--sklearn-color-unfitted-level-2);\n",
       "}\n",
       "\n",
       "#sk-container-id-1 div.sk-estimator.fitted input.sk-toggleable__control:checked~label.sk-toggleable__label {\n",
       "  /* fitted */\n",
       "  background-color: var(--sklearn-color-fitted-level-2);\n",
       "}\n",
       "\n",
       "#sk-container-id-1 div.sk-label label.sk-toggleable__label,\n",
       "#sk-container-id-1 div.sk-label label {\n",
       "  /* The background is the default theme color */\n",
       "  color: var(--sklearn-color-text-on-default-background);\n",
       "}\n",
       "\n",
       "/* On hover, darken the color of the background */\n",
       "#sk-container-id-1 div.sk-label:hover label.sk-toggleable__label {\n",
       "  color: var(--sklearn-color-text);\n",
       "  background-color: var(--sklearn-color-unfitted-level-2);\n",
       "}\n",
       "\n",
       "/* Label box, darken color on hover, fitted */\n",
       "#sk-container-id-1 div.sk-label.fitted:hover label.sk-toggleable__label.fitted {\n",
       "  color: var(--sklearn-color-text);\n",
       "  background-color: var(--sklearn-color-fitted-level-2);\n",
       "}\n",
       "\n",
       "/* Estimator label */\n",
       "\n",
       "#sk-container-id-1 div.sk-label label {\n",
       "  font-family: monospace;\n",
       "  font-weight: bold;\n",
       "  display: inline-block;\n",
       "  line-height: 1.2em;\n",
       "}\n",
       "\n",
       "#sk-container-id-1 div.sk-label-container {\n",
       "  text-align: center;\n",
       "}\n",
       "\n",
       "/* Estimator-specific */\n",
       "#sk-container-id-1 div.sk-estimator {\n",
       "  font-family: monospace;\n",
       "  border: 1px dotted var(--sklearn-color-border-box);\n",
       "  border-radius: 0.25em;\n",
       "  box-sizing: border-box;\n",
       "  margin-bottom: 0.5em;\n",
       "  /* unfitted */\n",
       "  background-color: var(--sklearn-color-unfitted-level-0);\n",
       "}\n",
       "\n",
       "#sk-container-id-1 div.sk-estimator.fitted {\n",
       "  /* fitted */\n",
       "  background-color: var(--sklearn-color-fitted-level-0);\n",
       "}\n",
       "\n",
       "/* on hover */\n",
       "#sk-container-id-1 div.sk-estimator:hover {\n",
       "  /* unfitted */\n",
       "  background-color: var(--sklearn-color-unfitted-level-2);\n",
       "}\n",
       "\n",
       "#sk-container-id-1 div.sk-estimator.fitted:hover {\n",
       "  /* fitted */\n",
       "  background-color: var(--sklearn-color-fitted-level-2);\n",
       "}\n",
       "\n",
       "/* Specification for estimator info (e.g. \"i\" and \"?\") */\n",
       "\n",
       "/* Common style for \"i\" and \"?\" */\n",
       "\n",
       ".sk-estimator-doc-link,\n",
       "a:link.sk-estimator-doc-link,\n",
       "a:visited.sk-estimator-doc-link {\n",
       "  float: right;\n",
       "  font-size: smaller;\n",
       "  line-height: 1em;\n",
       "  font-family: monospace;\n",
       "  background-color: var(--sklearn-color-background);\n",
       "  border-radius: 1em;\n",
       "  height: 1em;\n",
       "  width: 1em;\n",
       "  text-decoration: none !important;\n",
       "  margin-left: 1ex;\n",
       "  /* unfitted */\n",
       "  border: var(--sklearn-color-unfitted-level-1) 1pt solid;\n",
       "  color: var(--sklearn-color-unfitted-level-1);\n",
       "}\n",
       "\n",
       ".sk-estimator-doc-link.fitted,\n",
       "a:link.sk-estimator-doc-link.fitted,\n",
       "a:visited.sk-estimator-doc-link.fitted {\n",
       "  /* fitted */\n",
       "  border: var(--sklearn-color-fitted-level-1) 1pt solid;\n",
       "  color: var(--sklearn-color-fitted-level-1);\n",
       "}\n",
       "\n",
       "/* On hover */\n",
       "div.sk-estimator:hover .sk-estimator-doc-link:hover,\n",
       ".sk-estimator-doc-link:hover,\n",
       "div.sk-label-container:hover .sk-estimator-doc-link:hover,\n",
       ".sk-estimator-doc-link:hover {\n",
       "  /* unfitted */\n",
       "  background-color: var(--sklearn-color-unfitted-level-3);\n",
       "  color: var(--sklearn-color-background);\n",
       "  text-decoration: none;\n",
       "}\n",
       "\n",
       "div.sk-estimator.fitted:hover .sk-estimator-doc-link.fitted:hover,\n",
       ".sk-estimator-doc-link.fitted:hover,\n",
       "div.sk-label-container:hover .sk-estimator-doc-link.fitted:hover,\n",
       ".sk-estimator-doc-link.fitted:hover {\n",
       "  /* fitted */\n",
       "  background-color: var(--sklearn-color-fitted-level-3);\n",
       "  color: var(--sklearn-color-background);\n",
       "  text-decoration: none;\n",
       "}\n",
       "\n",
       "/* Span, style for the box shown on hovering the info icon */\n",
       ".sk-estimator-doc-link span {\n",
       "  display: none;\n",
       "  z-index: 9999;\n",
       "  position: relative;\n",
       "  font-weight: normal;\n",
       "  right: .2ex;\n",
       "  padding: .5ex;\n",
       "  margin: .5ex;\n",
       "  width: min-content;\n",
       "  min-width: 20ex;\n",
       "  max-width: 50ex;\n",
       "  color: var(--sklearn-color-text);\n",
       "  box-shadow: 2pt 2pt 4pt #999;\n",
       "  /* unfitted */\n",
       "  background: var(--sklearn-color-unfitted-level-0);\n",
       "  border: .5pt solid var(--sklearn-color-unfitted-level-3);\n",
       "}\n",
       "\n",
       ".sk-estimator-doc-link.fitted span {\n",
       "  /* fitted */\n",
       "  background: var(--sklearn-color-fitted-level-0);\n",
       "  border: var(--sklearn-color-fitted-level-3);\n",
       "}\n",
       "\n",
       ".sk-estimator-doc-link:hover span {\n",
       "  display: block;\n",
       "}\n",
       "\n",
       "/* \"?\"-specific style due to the `<a>` HTML tag */\n",
       "\n",
       "#sk-container-id-1 a.estimator_doc_link {\n",
       "  float: right;\n",
       "  font-size: 1rem;\n",
       "  line-height: 1em;\n",
       "  font-family: monospace;\n",
       "  background-color: var(--sklearn-color-background);\n",
       "  border-radius: 1rem;\n",
       "  height: 1rem;\n",
       "  width: 1rem;\n",
       "  text-decoration: none;\n",
       "  /* unfitted */\n",
       "  color: var(--sklearn-color-unfitted-level-1);\n",
       "  border: var(--sklearn-color-unfitted-level-1) 1pt solid;\n",
       "}\n",
       "\n",
       "#sk-container-id-1 a.estimator_doc_link.fitted {\n",
       "  /* fitted */\n",
       "  border: var(--sklearn-color-fitted-level-1) 1pt solid;\n",
       "  color: var(--sklearn-color-fitted-level-1);\n",
       "}\n",
       "\n",
       "/* On hover */\n",
       "#sk-container-id-1 a.estimator_doc_link:hover {\n",
       "  /* unfitted */\n",
       "  background-color: var(--sklearn-color-unfitted-level-3);\n",
       "  color: var(--sklearn-color-background);\n",
       "  text-decoration: none;\n",
       "}\n",
       "\n",
       "#sk-container-id-1 a.estimator_doc_link.fitted:hover {\n",
       "  /* fitted */\n",
       "  background-color: var(--sklearn-color-fitted-level-3);\n",
       "}\n",
       "</style><div id=\"sk-container-id-1\" class=\"sk-top-container\"><div class=\"sk-text-repr-fallback\"><pre>ContinuousOptimalBinning(name=&#x27;BsmtFullBath&#x27;)</pre><b>In a Jupyter environment, please rerun this cell to show the HTML representation or trust the notebook. <br />On GitHub, the HTML representation is unable to render, please try loading this page with nbviewer.org.</b></div><div class=\"sk-container\" hidden><div class=\"sk-item\"><div class=\"sk-estimator  sk-toggleable\"><input class=\"sk-toggleable__control sk-hidden--visually\" id=\"sk-estimator-id-1\" type=\"checkbox\" checked><label for=\"sk-estimator-id-1\" class=\"sk-toggleable__label  sk-toggleable__label-arrow \">&nbsp;ContinuousOptimalBinning<span class=\"sk-estimator-doc-link \">i<span>Not fitted</span></span></label><div class=\"sk-toggleable__content \"><pre>ContinuousOptimalBinning(name=&#x27;BsmtFullBath&#x27;)</pre></div> </div></div></div></div>"
      ],
      "text/plain": [
       "ContinuousOptimalBinning(name='BsmtFullBath')"
      ]
     },
     "execution_count": 38,
     "metadata": {},
     "output_type": "execute_result"
    }
   ],
   "source": [
    "optbBsmtFullBath.fit(x, y)"
   ]
  },
  {
   "cell_type": "markdown",
   "metadata": {},
   "source": [
    "##### Etape 4 :\n",
    "\n",
    "On peut procéder à plusieurs vérifications.\n",
    "\n",
    "Par exemple, on peut contrôler le statut pour voir si l'algorithme a convergé.\n"
   ]
  },
  {
   "cell_type": "code",
   "execution_count": 39,
   "metadata": {},
   "outputs": [
    {
     "data": {
      "text/plain": [
       "'OPTIMAL'"
      ]
     },
     "execution_count": 39,
     "metadata": {},
     "output_type": "execute_result"
    }
   ],
   "source": [
    "optbBsmtFullBath.status"
   ]
  },
  {
   "cell_type": "markdown",
   "metadata": {},
   "source": [
    "Contrôle des découpages proposés\n"
   ]
  },
  {
   "cell_type": "code",
   "execution_count": 40,
   "metadata": {},
   "outputs": [
    {
     "data": {
      "text/plain": [
       "array([0.5])"
      ]
     },
     "execution_count": 40,
     "metadata": {},
     "output_type": "execute_result"
    }
   ],
   "source": [
    "optbBsmtFullBath.splits"
   ]
  },
  {
   "cell_type": "markdown",
   "metadata": {},
   "source": [
    "Plusieurs informations sur le découpage et représentation de l'IV (Information Value)\n"
   ]
  },
  {
   "cell_type": "code",
   "execution_count": 41,
   "metadata": {},
   "outputs": [],
   "source": [
    "binning_table = optbBsmtFullBath.binning_table"
   ]
  },
  {
   "cell_type": "code",
   "execution_count": 42,
   "metadata": {},
   "outputs": [
    {
     "data": {
      "text/plain": [
       "optbinning.binning.binning_statistics.ContinuousBinningTable"
      ]
     },
     "execution_count": 42,
     "metadata": {},
     "output_type": "execute_result"
    }
   ],
   "source": [
    "type(binning_table)"
   ]
  },
  {
   "cell_type": "markdown",
   "metadata": {},
   "source": [
    "On peut regarder la table de découpage et constater son lien avec les différents prix des maisons\n"
   ]
  },
  {
   "cell_type": "code",
   "execution_count": 43,
   "metadata": {},
   "outputs": [
    {
     "data": {
      "text/html": [
       "<div>\n",
       "<style scoped>\n",
       "    .dataframe tbody tr th:only-of-type {\n",
       "        vertical-align: middle;\n",
       "    }\n",
       "\n",
       "    .dataframe tbody tr th {\n",
       "        vertical-align: top;\n",
       "    }\n",
       "\n",
       "    .dataframe thead th {\n",
       "        text-align: right;\n",
       "    }\n",
       "</style>\n",
       "<table border=\"1\" class=\"dataframe\">\n",
       "  <thead>\n",
       "    <tr style=\"text-align: right;\">\n",
       "      <th></th>\n",
       "      <th>Bin</th>\n",
       "      <th>Count</th>\n",
       "      <th>Count (%)</th>\n",
       "      <th>Sum</th>\n",
       "      <th>Std</th>\n",
       "      <th>Mean</th>\n",
       "      <th>Min</th>\n",
       "      <th>Max</th>\n",
       "      <th>Zeros count</th>\n",
       "      <th>WoE</th>\n",
       "      <th>IV</th>\n",
       "    </tr>\n",
       "  </thead>\n",
       "  <tbody>\n",
       "    <tr>\n",
       "      <th>0</th>\n",
       "      <td>(-inf, 0.50)</td>\n",
       "      <td>856</td>\n",
       "      <td>0.586301</td>\n",
       "      <td>141686524.0</td>\n",
       "      <td>68098.007851</td>\n",
       "      <td>165521.640187</td>\n",
       "      <td>34900.0</td>\n",
       "      <td>755000.0</td>\n",
       "      <td>0</td>\n",
       "      <td>-15399.555703</td>\n",
       "      <td>9028.780604</td>\n",
       "    </tr>\n",
       "    <tr>\n",
       "      <th>1</th>\n",
       "      <td>[0.50, inf)</td>\n",
       "      <td>604</td>\n",
       "      <td>0.413699</td>\n",
       "      <td>122458422.0</td>\n",
       "      <td>88658.701964</td>\n",
       "      <td>202745.731788</td>\n",
       "      <td>35311.0</td>\n",
       "      <td>745000.0</td>\n",
       "      <td>0</td>\n",
       "      <td>21824.535898</td>\n",
       "      <td>9028.780604</td>\n",
       "    </tr>\n",
       "    <tr>\n",
       "      <th>2</th>\n",
       "      <td>Special</td>\n",
       "      <td>0</td>\n",
       "      <td>0.000000</td>\n",
       "      <td>0.0</td>\n",
       "      <td>NaN</td>\n",
       "      <td>0.000000</td>\n",
       "      <td>NaN</td>\n",
       "      <td>NaN</td>\n",
       "      <td>0</td>\n",
       "      <td>-180921.195890</td>\n",
       "      <td>0.000000</td>\n",
       "    </tr>\n",
       "    <tr>\n",
       "      <th>3</th>\n",
       "      <td>Missing</td>\n",
       "      <td>0</td>\n",
       "      <td>0.000000</td>\n",
       "      <td>0.0</td>\n",
       "      <td>NaN</td>\n",
       "      <td>0.000000</td>\n",
       "      <td>NaN</td>\n",
       "      <td>NaN</td>\n",
       "      <td>0</td>\n",
       "      <td>-180921.195890</td>\n",
       "      <td>0.000000</td>\n",
       "    </tr>\n",
       "    <tr>\n",
       "      <th>Totals</th>\n",
       "      <td></td>\n",
       "      <td>1460</td>\n",
       "      <td>1.000000</td>\n",
       "      <td>264144946.0</td>\n",
       "      <td></td>\n",
       "      <td>180921.195890</td>\n",
       "      <td>34900.0</td>\n",
       "      <td>755000.0</td>\n",
       "      <td>0</td>\n",
       "      <td>399066.483382</td>\n",
       "      <td>18057.561208</td>\n",
       "    </tr>\n",
       "  </tbody>\n",
       "</table>\n",
       "</div>"
      ],
      "text/plain": [
       "                 Bin  Count  Count (%)          Sum           Std  \\\n",
       "0       (-inf, 0.50)    856   0.586301  141686524.0  68098.007851   \n",
       "1        [0.50, inf)    604   0.413699  122458422.0  88658.701964   \n",
       "2            Special      0   0.000000          0.0           NaN   \n",
       "3            Missing      0   0.000000          0.0           NaN   \n",
       "Totals                 1460   1.000000  264144946.0                 \n",
       "\n",
       "                 Mean      Min       Max  Zeros count            WoE  \\\n",
       "0       165521.640187  34900.0  755000.0            0  -15399.555703   \n",
       "1       202745.731788  35311.0  745000.0            0   21824.535898   \n",
       "2            0.000000      NaN       NaN            0 -180921.195890   \n",
       "3            0.000000      NaN       NaN            0 -180921.195890   \n",
       "Totals  180921.195890  34900.0  755000.0            0  399066.483382   \n",
       "\n",
       "                  IV  \n",
       "0        9028.780604  \n",
       "1        9028.780604  \n",
       "2           0.000000  \n",
       "3           0.000000  \n",
       "Totals  18057.561208  "
      ]
     },
     "execution_count": 43,
     "metadata": {},
     "output_type": "execute_result"
    }
   ],
   "source": [
    "binning_table.build()"
   ]
  },
  {
   "cell_type": "code",
   "execution_count": 44,
   "metadata": {},
   "outputs": [
    {
     "name": "stderr",
     "output_type": "stream",
     "text": [
      "c:\\Users\\guill\\OneDrive\\Bureau\\Python\\Kaggle\\house-prices\\house-prices-env\\Lib\\site-packages\\optbinning\\binning\\binning_statistics.py:1933: UserWarning:\n",
      "\n",
      "FigureCanvasAgg is non-interactive, and thus cannot be shown\n",
      "\n"
     ]
    }
   ],
   "source": [
    "binning_table.plot()"
   ]
  },
  {
   "cell_type": "markdown",
   "metadata": {},
   "source": [
    "##### Etape 5 :\n",
    "\n",
    "Application du découpage en créant une nouvelle colonne et application sur le jeu de test.\n"
   ]
  },
  {
   "cell_type": "code",
   "execution_count": 45,
   "metadata": {},
   "outputs": [],
   "source": [
    "train[\"BsmtFullBath_optb\"] = optbBsmtFullBath.transform(x, metric=\"bins\")\n",
    "\n",
    "x = test[\"BsmtFullBath\"].values\n",
    "test[\"BsmtFullBath_optb\"] = optbBsmtFullBath.transform(x, metric=\"bins\")"
   ]
  },
  {
   "cell_type": "markdown",
   "metadata": {},
   "source": [
    "Le même principe va être appliqué pour d'autre variable. Pour eviter la redondance, je vais créer une fonction\n",
    "\n",
    "#### Création d'une fonction pour plus de simplicité\n"
   ]
  },
  {
   "cell_type": "code",
   "execution_count": 46,
   "metadata": {},
   "outputs": [],
   "source": [
    "def bin_feat(\n",
    "    bin_variable: str,\n",
    "    bin_target: str,\n",
    "    df_train: pd.DataFrame,\n",
    "    df_test: pd.DataFrame,\n",
    "    transformed_variable_name: str,\n",
    "    quanti_quali: str,\n",
    "):\n",
    "    x = df_train[bin_variable].values\n",
    "\n",
    "    y = df_train[bin_target].values\n",
    "\n",
    "    optb_name = \"optb_\" + bin_variable\n",
    "\n",
    "    if quanti_quali == \"quanti\":\n",
    "        optb_name = ContinuousOptimalBinning(name=bin_variable, dtype=\"numerical\")\n",
    "\n",
    "    elif quanti_quali == \"quali\":\n",
    "        optb_name = ContinuousOptimalBinning(name=bin_variable, dtype=\"categorical\")\n",
    "\n",
    "    else:\n",
    "        print('Veuillez renseigner \"quanti\" ou \"quali\"')\n",
    "\n",
    "    optb_name.fit(x, y)\n",
    "\n",
    "    if optb_name.status != \"OPTIMAL\":\n",
    "        print(\"L'algorithme n'a pas réussi a converger\")\n",
    "\n",
    "    else:\n",
    "        df_train[transformed_variable_name] = optb_name.transform(x, metric=\"bins\")\n",
    "\n",
    "        x = df_test[bin_variable].values\n",
    "\n",
    "        df_test[transformed_variable_name] = optb_name.transform(x, metric=\"bins\")"
   ]
  },
  {
   "cell_type": "markdown",
   "metadata": {},
   "source": [
    "#### BsmtHalfBath, FullBath et HalfBath\n"
   ]
  },
  {
   "cell_type": "code",
   "execution_count": 47,
   "metadata": {},
   "outputs": [],
   "source": [
    "list_col = [\"BsmtHalfBath\", \"FullBath\", \"HalfBath\"]\n",
    "\n",
    "for col in list_col:\n",
    "    transformed_variable_name = col + \"_optb\"\n",
    "    bin_feat(col, \"SalePrice\", train, test, transformed_variable_name, \"quanti\")"
   ]
  },
  {
   "cell_type": "markdown",
   "metadata": {},
   "source": [
    "#### Functional : Fonctionnalités globales de la maison\n",
    "\n",
    "- Typical Functionality\n",
    "- Minor Deductions 1 et 2 et Moderate Deductions -> Minor Deductions\n",
    "- Major Deductions 1 et 2, Severely Damaged, Salvage only -> Major Deductions\n"
   ]
  },
  {
   "cell_type": "code",
   "execution_count": 48,
   "metadata": {},
   "outputs": [],
   "source": [
    "col = \"Functional\"\n",
    "\n",
    "choicelist = [\"Minor Deductions\", \"Major Deductions\"]\n",
    "\n",
    "for df in [train, test]:\n",
    "    condlist = [\n",
    "        df[col].isin(\n",
    "            [\"Minor Deductions 2\", \"Minor Deductions 1\", \"Moderate Deductions\"]\n",
    "        ),\n",
    "        df[col].isin(\n",
    "            [\n",
    "                \"Major Deductions 1\",\n",
    "                \"Major Deductions 2\",\n",
    "                \"Severely Damaged\",\n",
    "                \"Salvage only\",\n",
    "            ]\n",
    "        ),\n",
    "    ]\n",
    "\n",
    "    col_name = col + \"_agg\"\n",
    "\n",
    "    df[col_name] = np.select(condlist, choicelist, default=df[col])"
   ]
  },
  {
   "cell_type": "markdown",
   "metadata": {},
   "source": [
    "#### Fireplaces : nombre de cheminés\n",
    "\n",
    "Regroupement par WOE Binning\n"
   ]
  },
  {
   "cell_type": "code",
   "execution_count": 49,
   "metadata": {},
   "outputs": [],
   "source": [
    "bin_feat(\"Fireplaces\", \"SalePrice\", train, test, \"Fireplaces_optb\", \"quanti\")"
   ]
  },
  {
   "cell_type": "markdown",
   "metadata": {},
   "source": [
    "#### FireplaceQu : qualité des cheminés\n",
    "\n",
    "- regrouper \"fair\" et \"poor\"\n",
    "- regrouper \"Excellent\" et \"Good\"\n"
   ]
  },
  {
   "cell_type": "code",
   "execution_count": 50,
   "metadata": {},
   "outputs": [],
   "source": [
    "train[\"FireplaceQu_agg\"] = train[\"FireplaceQu\"].replace(\n",
    "    \"Poor - Ben Franklin Stove\", \"Fair - Prefabricated Fireplace in basement\"\n",
    ")\n",
    "test[\"FireplaceQu_agg\"] = test[\"FireplaceQu\"].replace(\n",
    "    \"Poor - Ben Franklin Stove\", \"Fair - Prefabricated Fireplace in basement\"\n",
    ")\n",
    "\n",
    "train[\"FireplaceQu_agg\"] = train[\"FireplaceQu\"].replace(\n",
    "    \"Excellent - Exceptional Masonry Fireplace\",\n",
    "    \"Good - Masonry Fireplace in main level\",\n",
    ")\n",
    "test[\"FireplaceQu_agg\"] = test[\"FireplaceQu\"].replace(\n",
    "    \"Excellent - Exceptional Masonry Fireplace\",\n",
    "    \"Good - Masonry Fireplace in main level\",\n",
    ")"
   ]
  },
  {
   "cell_type": "markdown",
   "metadata": {},
   "source": [
    "#### GarageType : type de garage\n",
    "\n",
    "- A voir. peut etre avec les valeurs de Shapley plus tard\n",
    "- test avec WOE binning\n"
   ]
  },
  {
   "cell_type": "code",
   "execution_count": 51,
   "metadata": {},
   "outputs": [],
   "source": [
    "bin_feat(\"GarageType\", \"SalePrice\", train, test, \"GarageType_optb\", \"quali\")"
   ]
  },
  {
   "cell_type": "markdown",
   "metadata": {},
   "source": [
    "#### GarageQual\n",
    "\n",
    "- regrouper \"fair\" et \"poor\"\n",
    "- regrouper \"Excellent\" et \"Good\"\n"
   ]
  },
  {
   "cell_type": "code",
   "execution_count": 52,
   "metadata": {},
   "outputs": [],
   "source": [
    "train[\"GarageQual_agg\"] = train[\"GarageQual\"].replace(\"Poor\", \"Fair\")\n",
    "test[\"GarageQual_agg\"] = test[\"GarageQual\"].replace(\"Poor\", \"Fair\")\n",
    "\n",
    "train[\"GarageQual_agg\"] = train[\"GarageQual\"].replace(\"Excellent\", \"Good\")\n",
    "test[\"GarageQual_agg\"] = test[\"GarageQual\"].replace(\"Excellent\", \"Good\")"
   ]
  },
  {
   "cell_type": "markdown",
   "metadata": {},
   "source": [
    "#### SaleType / SaleCondition : type de vente\n",
    "\n",
    "- pour l'instant je laisse tel quel.\n",
    "- A voir si je trouve mieux avec WOE bining ou autre.\n",
    "- Peut etre avec les valeures de Shapley simplement\n"
   ]
  },
  {
   "cell_type": "code",
   "execution_count": 53,
   "metadata": {},
   "outputs": [],
   "source": [
    "bin_feat(\"SaleType\", \"SalePrice\", train, test, \"SaleType_optb\", \"quali\")\n",
    "bin_feat(\"SaleCondition\", \"SalePrice\", train, test, \"SaleCondition_optb\", \"quali\")"
   ]
  },
  {
   "cell_type": "markdown",
   "metadata": {},
   "source": [
    "## Remarque de fin sur certaines variables\n",
    "\n",
    "J'ai un premier avis sur certaines variables. En effet, je pense que quelques-unes d'entre elles n'ont pas ou peu d'intérêt, comportent un déséquilibre trop important, et éventuellement qu'une modalité est dominante. Donc j'ai établi une première liste de variables pour la suite du projet. Je ne souhaite pas supprimer d'information avant plusieurs essais de modélisation. Aucun traitement ne sera donc prévu ici. Seules les dates indiquées seront supprimées.\n",
    "\n",
    "- Utilities : accès aux énergies\n",
    "- LowQualFinSF : finition basse qualité (tout étage)\n",
    "- GarageCars : capacité de voiture du garage (je pense que garage area sera mieux, quitte à la découper en plusieurs catégories)\n",
    "- 3SsnPorch : véranda spécifique\n",
    "- ScreenPorch : véranda spécifique\n",
    "- PoolArea : surface de la piscine\n",
    "- PoolQC : qualité de la piscine\n",
    "- MiscFeature / MiscVal : bazard, valeurs inclassables (trop déséquilibré, c'est dommage. Mais peut être uniquement pour les maisons chères)\n",
    "- Heating : type de chauffage (trop déséquilibré et corrélé avec HeatingQC qui semble mieux)\n",
    "- Condition2 : proximité et situation/élément notables proche du logement (on ne prendra que la première condition, car condition2 semble hyper déséquilibré)\n",
    "- RoofMatl : matériaux de la toiture (trop déséquilibré)\n",
    "- Street / Alley : type de route ou d'allée pour venir à la maison\n",
    "- MSZoning : contexte du terrain (zone qui l'entoure)\n",
    "- LandContour : contexte géographique du terrain (en pente, plat, etc.)\n",
    "- LandSlope : pente de la propriété. Semblable à LandContour\n",
    "- BldgType : style ou usage structurel principal de la maison vendue\n",
    "- ExterCond : qualité de la condition extérieure (je pars du principe que c'est corrélé à ExterQual qui est moins déséquilibrée donc plus intéressante)\n",
    "- BsmtCond : condition du sous-sol (même raisonnement avec BsmtQual)\n",
    "- BsmtFinType2 : type sous-sol fini (cas complexe)\n",
    "- BsmtFinSF2 : surface\n",
    "- CentralAir : à voir, mais c'est une indicatrice hyper déséquilibrée\n",
    "- Electrical : tester un regroupement peut être, mais je ne sais pas si ça vaut le coup\n",
    "- Functional : maison déjà habitable\n",
    "- GarageCond : condition du garage (semblable à qualité GarageQual)\n",
    "- les dates :\n",
    "  - YearBuilt\n",
    "  - MoSold\n",
    "  - YrSold\n",
    "  - YearRemodAdd\n",
    "  - GarageYrBlt\n",
    "\n",
    "NB : SaleDate, je vais la garder, car elle permettra d'apporter une information supplémentaire. Le marché de l'immobilier étant mouvant en fonction de l'année de vente (crise économique éventuelle), je pourrais avoir une meilleure adaptation (pas de drift de modèle en fonction des années). Elle sera convertie en variable catégorielle.\n"
   ]
  },
  {
   "cell_type": "code",
   "execution_count": 54,
   "metadata": {},
   "outputs": [],
   "source": [
    "col_suppr = [\"YearBuilt\", \"MoSold\", \"YrSold\", \"YearRemodAdd\", \"GarageYrBlt\"]\n",
    "\n",
    "for df in [train, test]:\n",
    "    df.drop(columns=col_suppr, inplace=True)"
   ]
  },
  {
   "cell_type": "markdown",
   "metadata": {},
   "source": [
    "## Sauvegarde des jeux de données après traitement\n"
   ]
  },
  {
   "cell_type": "code",
   "execution_count": 56,
   "metadata": {},
   "outputs": [],
   "source": [
    "# Chemin racine\n",
    "rootpath = \"../data/processed\"\n",
    "\n",
    "# Test de l'existence du répertoire\n",
    "if not os.path.exists(rootpath):\n",
    "    # Création du répertoire s'il n'existe pas\n",
    "    os.makedirs(rootpath)\n",
    "\n",
    "# Sauvegarde des jeux de données\n",
    "train.to_csv(\n",
    "    path_or_buf=os.path.join(rootpath, \"train.csv\"),\n",
    "    sep=\",\",\n",
    "    encoding=\"utf-8\",\n",
    "    index=False,\n",
    ")\n",
    "test.to_csv(\n",
    "    path_or_buf=os.path.join(rootpath, \"test.csv\"),\n",
    "    sep=\",\",\n",
    "    encoding=\"utf-8\",\n",
    "    index=False,\n",
    ")"
   ]
  }
 ],
 "metadata": {
  "kernelspec": {
   "display_name": "Python 3",
   "language": "python",
   "name": "python3"
  },
  "language_info": {
   "codemirror_mode": {
    "name": "ipython",
    "version": 3
   },
   "file_extension": ".py",
   "mimetype": "text/x-python",
   "name": "python",
   "nbconvert_exporter": "python",
   "pygments_lexer": "ipython3",
   "version": "3.12.5"
  }
 },
 "nbformat": 4,
 "nbformat_minor": 2
}
